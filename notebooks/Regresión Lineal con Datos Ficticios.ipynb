{
 "cells": [
  {
   "cell_type": "markdown",
   "metadata": {},
   "source": [
    "# Modelos de Regresión Lineal\n",
    "## Modelo con datos simulados\n",
    "* y = a+bx\n",
    "* x : 100 valores distribuidos según una $N(1.5,2.5)$\n",
    "* Ye : 3 + 1.5 x (La estimación) \n",
    "* e (residuo) estará distribuida según una $N(0,0.8)$"
   ]
  },
  {
   "cell_type": "code",
   "execution_count": 1,
   "metadata": {},
   "outputs": [],
   "source": [
    "import pandas as pd\n",
    "import numpy as np"
   ]
  },
  {
   "cell_type": "code",
   "execution_count": 2,
   "metadata": {},
   "outputs": [],
   "source": [
    "x = 1.5 + 2.5*np.random.randn(100)"
   ]
  },
  {
   "cell_type": "code",
   "execution_count": 3,
   "metadata": {},
   "outputs": [],
   "source": [
    "res = 0 + 0.8*np.random.randn(100) # residuo"
   ]
  },
  {
   "cell_type": "code",
   "execution_count": 4,
   "metadata": {},
   "outputs": [],
   "source": [
    "y_pred = 3 + 1.5*x"
   ]
  },
  {
   "cell_type": "code",
   "execution_count": 5,
   "metadata": {},
   "outputs": [],
   "source": [
    "y_act = 3 + 1.5*x + res"
   ]
  },
  {
   "cell_type": "code",
   "execution_count": 6,
   "metadata": {},
   "outputs": [],
   "source": [
    "x_list = x.tolist()\n",
    "y_pred_list = y_pred.tolist()\n",
    "y_act_list = y_act.tolist()"
   ]
  },
  {
   "cell_type": "code",
   "execution_count": 7,
   "metadata": {},
   "outputs": [],
   "source": [
    "data = pd.DataFrame(\n",
    "    {\n",
    "    'x':x_list,\n",
    "    'y_actual': y_act_list,\n",
    "    'y_prediccion': y_pred_list\n",
    "}\n",
    ")"
   ]
  },
  {
   "cell_type": "code",
   "execution_count": 8,
   "metadata": {},
   "outputs": [
    {
     "data": {
      "text/html": [
       "<div>\n",
       "<style scoped>\n",
       "    .dataframe tbody tr th:only-of-type {\n",
       "        vertical-align: middle;\n",
       "    }\n",
       "\n",
       "    .dataframe tbody tr th {\n",
       "        vertical-align: top;\n",
       "    }\n",
       "\n",
       "    .dataframe thead th {\n",
       "        text-align: right;\n",
       "    }\n",
       "</style>\n",
       "<table border=\"1\" class=\"dataframe\">\n",
       "  <thead>\n",
       "    <tr style=\"text-align: right;\">\n",
       "      <th></th>\n",
       "      <th>x</th>\n",
       "      <th>y_actual</th>\n",
       "      <th>y_prediccion</th>\n",
       "    </tr>\n",
       "  </thead>\n",
       "  <tbody>\n",
       "    <tr>\n",
       "      <th>0</th>\n",
       "      <td>3.978889</td>\n",
       "      <td>9.974239</td>\n",
       "      <td>8.968333</td>\n",
       "    </tr>\n",
       "    <tr>\n",
       "      <th>1</th>\n",
       "      <td>2.784391</td>\n",
       "      <td>7.251456</td>\n",
       "      <td>7.176586</td>\n",
       "    </tr>\n",
       "    <tr>\n",
       "      <th>2</th>\n",
       "      <td>-1.017691</td>\n",
       "      <td>1.207088</td>\n",
       "      <td>1.473463</td>\n",
       "    </tr>\n",
       "    <tr>\n",
       "      <th>3</th>\n",
       "      <td>1.771929</td>\n",
       "      <td>4.773159</td>\n",
       "      <td>5.657894</td>\n",
       "    </tr>\n",
       "    <tr>\n",
       "      <th>4</th>\n",
       "      <td>-4.349108</td>\n",
       "      <td>-3.991245</td>\n",
       "      <td>-3.523662</td>\n",
       "    </tr>\n",
       "  </tbody>\n",
       "</table>\n",
       "</div>"
      ],
      "text/plain": [
       "          x  y_actual  y_prediccion\n",
       "0  3.978889  9.974239      8.968333\n",
       "1  2.784391  7.251456      7.176586\n",
       "2 -1.017691  1.207088      1.473463\n",
       "3  1.771929  4.773159      5.657894\n",
       "4 -4.349108 -3.991245     -3.523662"
      ]
     },
     "execution_count": 8,
     "metadata": {},
     "output_type": "execute_result"
    }
   ],
   "source": [
    "data.head()"
   ]
  },
  {
   "cell_type": "code",
   "execution_count": 9,
   "metadata": {},
   "outputs": [],
   "source": [
    "import matplotlib.pyplot as plt"
   ]
  },
  {
   "cell_type": "code",
   "execution_count": 32,
   "metadata": {},
   "outputs": [],
   "source": [
    "y_mean = [np.mean(y_act) for i in range(1,len(x_list)+1)]"
   ]
  },
  {
   "cell_type": "code",
   "execution_count": 11,
   "metadata": {},
   "outputs": [
    {
     "data": {
      "text/plain": [
       "Text(0.5, 1.0, 'Valor Actual vs predicción')"
      ]
     },
     "execution_count": 11,
     "metadata": {},
     "output_type": "execute_result"
    },
    {
     "data": {
      "image/png": "[encoded data removed]",
      "text/plain": [
       "<Figure size 432x288 with 1 Axes>"
      ]
     },
     "metadata": {
      "needs_background": "light"
     },
     "output_type": "display_data"
    }
   ],
   "source": [
    "%matplotlib inline\n",
    "plt.plot(x,y_pred)\n",
    "plt.plot(x,y_act,'ro')\n",
    "plt.plot(x,y_mean)\n",
    "plt.title('Valor Actual vs predicción')"
   ]
  },
  {
   "cell_type": "markdown",
   "metadata": {},
   "source": [
    "#### ¿Cómo es la predicción buena?\n",
    "* SST = SSD +SSR\n",
    "* SST: Variabilidad de los datos con respecto a su media\n",
    "* SSD: Diferencia entre los datos originales y las predicciones que el modelo no es capaz de explicar (errores que deberian seguir una distribución normal)\n",
    "* SSR: Diferencia entre la región del valor medio que el modelo busca explicar\n",
    "* $R^2$ =SSR/SST, coeficiente de determinación entre 0 y 1"
   ]
  },
  {
   "cell_type": "code",
   "execution_count": 12,
   "metadata": {},
   "outputs": [],
   "source": [
    "data['SSR'] = (data['y_prediccion']-np.mean(y_act))**2\n",
    "data['SSD'] = (data['y_prediccion']-data['y_actual'])**2\n",
    "data['SST']= (data['y_actual']-np.mean(y_act))**2"
   ]
  },
  {
   "cell_type": "code",
   "execution_count": 13,
   "metadata": {},
   "outputs": [
    {
     "data": {
      "text/html": [
       "<div>\n",
       "<style scoped>\n",
       "    .dataframe tbody tr th:only-of-type {\n",
       "        vertical-align: middle;\n",
       "    }\n",
       "\n",
       "    .dataframe tbody tr th {\n",
       "        vertical-align: top;\n",
       "    }\n",
       "\n",
       "    .dataframe thead th {\n",
       "        text-align: right;\n",
       "    }\n",
       "</style>\n",
       "<table border=\"1\" class=\"dataframe\">\n",
       "  <thead>\n",
       "    <tr style=\"text-align: right;\">\n",
       "      <th></th>\n",
       "      <th>x</th>\n",
       "      <th>y_actual</th>\n",
       "      <th>y_prediccion</th>\n",
       "      <th>SSR</th>\n",
       "      <th>SSD</th>\n",
       "      <th>SST</th>\n",
       "    </tr>\n",
       "  </thead>\n",
       "  <tbody>\n",
       "    <tr>\n",
       "      <th>0</th>\n",
       "      <td>3.978889</td>\n",
       "      <td>9.974239</td>\n",
       "      <td>8.968333</td>\n",
       "      <td>11.471800</td>\n",
       "      <td>1.011847</td>\n",
       "      <td>19.297665</td>\n",
       "    </tr>\n",
       "    <tr>\n",
       "      <th>1</th>\n",
       "      <td>2.784391</td>\n",
       "      <td>7.251456</td>\n",
       "      <td>7.176586</td>\n",
       "      <td>2.544846</td>\n",
       "      <td>0.005605</td>\n",
       "      <td>2.789325</td>\n",
       "    </tr>\n",
       "    <tr>\n",
       "      <th>2</th>\n",
       "      <td>-1.017691</td>\n",
       "      <td>1.207088</td>\n",
       "      <td>1.473463</td>\n",
       "      <td>16.874560</td>\n",
       "      <td>0.070956</td>\n",
       "      <td>19.133982</td>\n",
       "    </tr>\n",
       "    <tr>\n",
       "      <th>3</th>\n",
       "      <td>1.771929</td>\n",
       "      <td>4.773159</td>\n",
       "      <td>5.657894</td>\n",
       "      <td>0.005862</td>\n",
       "      <td>0.782756</td>\n",
       "      <td>0.653138</td>\n",
       "    </tr>\n",
       "    <tr>\n",
       "      <th>4</th>\n",
       "      <td>-4.349108</td>\n",
       "      <td>-3.991245</td>\n",
       "      <td>-3.523662</td>\n",
       "      <td>82.900847</td>\n",
       "      <td>0.218634</td>\n",
       "      <td>91.634158</td>\n",
       "    </tr>\n",
       "  </tbody>\n",
       "</table>\n",
       "</div>"
      ],
      "text/plain": [
       "          x  y_actual  y_prediccion        SSR       SSD        SST\n",
       "0  3.978889  9.974239      8.968333  11.471800  1.011847  19.297665\n",
       "1  2.784391  7.251456      7.176586   2.544846  0.005605   2.789325\n",
       "2 -1.017691  1.207088      1.473463  16.874560  0.070956  19.133982\n",
       "3  1.771929  4.773159      5.657894   0.005862  0.782756   0.653138\n",
       "4 -4.349108 -3.991245     -3.523662  82.900847  0.218634  91.634158"
      ]
     },
     "execution_count": 13,
     "metadata": {},
     "output_type": "execute_result"
    }
   ],
   "source": [
    "data.head()"
   ]
  },
  {
   "cell_type": "code",
   "execution_count": 14,
   "metadata": {},
   "outputs": [],
   "source": [
    "SSR = sum(data['SSR'])\n",
    "SSD = sum(data['SSD'])\n",
    "SST = sum(data['SST'])"
   ]
  },
  {
   "cell_type": "code",
   "execution_count": 15,
   "metadata": {},
   "outputs": [
    {
     "data": {
      "text/plain": [
       "1723.851814153154"
      ]
     },
     "execution_count": 15,
     "metadata": {},
     "output_type": "execute_result"
    }
   ],
   "source": [
    "SSR"
   ]
  },
  {
   "cell_type": "code",
   "execution_count": 16,
   "metadata": {},
   "outputs": [
    {
     "data": {
      "text/plain": [
       "76.95201735315725"
      ]
     },
     "execution_count": 16,
     "metadata": {},
     "output_type": "execute_result"
    }
   ],
   "source": [
    "SSD"
   ]
  },
  {
   "cell_type": "code",
   "execution_count": 17,
   "metadata": {},
   "outputs": [
    {
     "data": {
      "text/plain": [
       "1863.3158763620634"
      ]
     },
     "execution_count": 17,
     "metadata": {},
     "output_type": "execute_result"
    }
   ],
   "source": [
    "SST"
   ]
  },
  {
   "cell_type": "code",
   "execution_count": 18,
   "metadata": {},
   "outputs": [
    {
     "data": {
      "text/plain": [
       "1800.8038315063113"
      ]
     },
     "execution_count": 18,
     "metadata": {},
     "output_type": "execute_result"
    }
   ],
   "source": [
    "SSR+SSD"
   ]
  },
  {
   "cell_type": "code",
   "execution_count": 19,
   "metadata": {},
   "outputs": [
    {
     "data": {
      "text/plain": [
       "0.9251527537664741"
      ]
     },
     "execution_count": 19,
     "metadata": {},
     "output_type": "execute_result"
    }
   ],
   "source": [
    "R2 = SSR/SST\n",
    "R2"
   ]
  },
  {
   "cell_type": "code",
   "execution_count": 20,
   "metadata": {},
   "outputs": [
    {
     "data": {
      "text/plain": [
       "(array([ 4.,  4.,  8., 19., 13., 17., 17., 10.,  2.,  6.]),\n",
       " array([-2.13016375, -1.72403522, -1.31790669, -0.91177817, -0.50564964,\n",
       "        -0.09952111,  0.30660742,  0.71273594,  1.11886447,  1.524993  ,\n",
       "         1.93112153]),\n",
       " <a list of 10 Patch objects>)"
      ]
     },
     "execution_count": 20,
     "metadata": {},
     "output_type": "execute_result"
    },
    {
     "data": {
      "image/png": "[encoded data removed]",
      "text/plain": [
       "<Figure size 432x288 with 1 Axes>"
      ]
     },
     "metadata": {
      "needs_background": "light"
     },
     "output_type": "display_data"
    }
   ],
   "source": [
    "plt.hist(data['y_prediccion']-data['y_actual'])"
   ]
  },
  {
   "cell_type": "markdown",
   "metadata": {},
   "source": [
    "## Obteniendo la recta de regresión\n",
    "* Y = a +bx\n",
    "* b = $\\frac{\\sum_i^n (x_i - x_m)(y_i - y_m)}{\\sum_i^n (x_i- x_m)^2}$\n",
    "* a = $y_m - bx_m$"
   ]
  },
  {
   "cell_type": "code",
   "execution_count": 21,
   "metadata": {},
   "outputs": [
    {
     "data": {
      "text/plain": [
       "(1.6823730164338795, 5.581328491161139)"
      ]
     },
     "execution_count": 21,
     "metadata": {},
     "output_type": "execute_result"
    }
   ],
   "source": [
    "x_mean = np.mean(data['x'])\n",
    "y_mean = np.mean(data['y_actual'])\n",
    "x_mean,y_mean"
   ]
  },
  {
   "cell_type": "code",
   "execution_count": 23,
   "metadata": {},
   "outputs": [],
   "source": [
    "data['beta_n'] = (data['x']-x_mean)*(data['y_actual']-y_mean)\n",
    "data['beta_d']=(data['x']-x_mean)**2"
   ]
  },
  {
   "cell_type": "code",
   "execution_count": 24,
   "metadata": {},
   "outputs": [],
   "source": [
    "beta = sum(data['beta_n'])/sum(data['beta_d'])"
   ]
  },
  {
   "cell_type": "code",
   "execution_count": 25,
   "metadata": {},
   "outputs": [],
   "source": [
    "alpha = y_mean - beta*x_mean"
   ]
  },
  {
   "cell_type": "code",
   "execution_count": 26,
   "metadata": {},
   "outputs": [
    {
     "data": {
      "text/plain": [
       "(3.0115155448596087, 1.5274929645202908)"
      ]
     },
     "execution_count": 26,
     "metadata": {},
     "output_type": "execute_result"
    }
   ],
   "source": [
    "alpha,beta #alpha = 3, beta = 1.5 (buena aproximación)"
   ]
  },
  {
   "cell_type": "markdown",
   "metadata": {},
   "source": [
    "El modelo obtenido por regresión es:\n",
    "\n",
    "y = alpha+ beta*x"
   ]
  },
  {
   "cell_type": "code",
   "execution_count": 27,
   "metadata": {},
   "outputs": [],
   "source": [
    "data['y_model'] = alpha+beta*data['x'] #La aproximación de nuestro modelo"
   ]
  },
  {
   "cell_type": "code",
   "execution_count": 28,
   "metadata": {},
   "outputs": [
    {
     "data": {
      "text/html": [
       "<div>\n",
       "<style scoped>\n",
       "    .dataframe tbody tr th:only-of-type {\n",
       "        vertical-align: middle;\n",
       "    }\n",
       "\n",
       "    .dataframe tbody tr th {\n",
       "        vertical-align: top;\n",
       "    }\n",
       "\n",
       "    .dataframe thead th {\n",
       "        text-align: right;\n",
       "    }\n",
       "</style>\n",
       "<table border=\"1\" class=\"dataframe\">\n",
       "  <thead>\n",
       "    <tr style=\"text-align: right;\">\n",
       "      <th></th>\n",
       "      <th>x</th>\n",
       "      <th>y_actual</th>\n",
       "      <th>y_prediccion</th>\n",
       "      <th>SSR</th>\n",
       "      <th>SSD</th>\n",
       "      <th>SST</th>\n",
       "      <th>beta_n</th>\n",
       "      <th>beta_d</th>\n",
       "      <th>y_model</th>\n",
       "    </tr>\n",
       "  </thead>\n",
       "  <tbody>\n",
       "    <tr>\n",
       "      <th>0</th>\n",
       "      <td>3.978889</td>\n",
       "      <td>9.974239</td>\n",
       "      <td>8.968333</td>\n",
       "      <td>11.471800</td>\n",
       "      <td>1.011847</td>\n",
       "      <td>19.297665</td>\n",
       "      <td>10.088389</td>\n",
       "      <td>5.273984</td>\n",
       "      <td>9.089240</td>\n",
       "    </tr>\n",
       "    <tr>\n",
       "      <th>1</th>\n",
       "      <td>2.784391</td>\n",
       "      <td>7.251456</td>\n",
       "      <td>7.176586</td>\n",
       "      <td>2.544846</td>\n",
       "      <td>0.005605</td>\n",
       "      <td>2.789325</td>\n",
       "      <td>1.840510</td>\n",
       "      <td>1.214443</td>\n",
       "      <td>7.264653</td>\n",
       "    </tr>\n",
       "    <tr>\n",
       "      <th>2</th>\n",
       "      <td>-1.017691</td>\n",
       "      <td>1.207088</td>\n",
       "      <td>1.473463</td>\n",
       "      <td>16.874560</td>\n",
       "      <td>0.070956</td>\n",
       "      <td>19.133982</td>\n",
       "      <td>11.810732</td>\n",
       "      <td>7.290348</td>\n",
       "      <td>1.456999</td>\n",
       "    </tr>\n",
       "    <tr>\n",
       "      <th>3</th>\n",
       "      <td>1.771929</td>\n",
       "      <td>4.773159</td>\n",
       "      <td>5.657894</td>\n",
       "      <td>0.005862</td>\n",
       "      <td>0.782756</td>\n",
       "      <td>0.653138</td>\n",
       "      <td>-0.072377</td>\n",
       "      <td>0.008020</td>\n",
       "      <td>5.718125</td>\n",
       "    </tr>\n",
       "    <tr>\n",
       "      <th>4</th>\n",
       "      <td>-4.349108</td>\n",
       "      <td>-3.991245</td>\n",
       "      <td>-3.523662</td>\n",
       "      <td>82.900847</td>\n",
       "      <td>0.218634</td>\n",
       "      <td>91.634158</td>\n",
       "      <td>57.736792</td>\n",
       "      <td>36.378761</td>\n",
       "      <td>-3.631716</td>\n",
       "    </tr>\n",
       "  </tbody>\n",
       "</table>\n",
       "</div>"
      ],
      "text/plain": [
       "          x  y_actual  y_prediccion        SSR       SSD        SST  \\\n",
       "0  3.978889  9.974239      8.968333  11.471800  1.011847  19.297665   \n",
       "1  2.784391  7.251456      7.176586   2.544846  0.005605   2.789325   \n",
       "2 -1.017691  1.207088      1.473463  16.874560  0.070956  19.133982   \n",
       "3  1.771929  4.773159      5.657894   0.005862  0.782756   0.653138   \n",
       "4 -4.349108 -3.991245     -3.523662  82.900847  0.218634  91.634158   \n",
       "\n",
       "      beta_n     beta_d   y_model  \n",
       "0  10.088389   5.273984  9.089240  \n",
       "1   1.840510   1.214443  7.264653  \n",
       "2  11.810732   7.290348  1.456999  \n",
       "3  -0.072377   0.008020  5.718125  \n",
       "4  57.736792  36.378761 -3.631716  "
      ]
     },
     "execution_count": 28,
     "metadata": {},
     "output_type": "execute_result"
    }
   ],
   "source": [
    "data.head()"
   ]
  },
  {
   "cell_type": "code",
   "execution_count": 29,
   "metadata": {},
   "outputs": [],
   "source": [
    "SSR = sum((data['y_model']-y_mean)**2)\n",
    "SSD = sum((data['y_model']-data['y_actual'])**2)\n",
    "SST = sum((data['y_actual']-np.mean(y_act))**2)"
   ]
  },
  {
   "cell_type": "code",
   "execution_count": 30,
   "metadata": {},
   "outputs": [
    {
     "data": {
      "text/plain": [
       "(1787.2765815679695, 76.0392947940975, 1863.3158763620634)"
      ]
     },
     "execution_count": 30,
     "metadata": {},
     "output_type": "execute_result"
    }
   ],
   "source": [
    "SSR,SSD,SST"
   ]
  },
  {
   "cell_type": "code",
   "execution_count": 31,
   "metadata": {},
   "outputs": [
    {
     "data": {
      "text/plain": [
       "0.9591914093800602"
      ]
     },
     "execution_count": 31,
     "metadata": {},
     "output_type": "execute_result"
    }
   ],
   "source": [
    "R2 = SSR/SST\n",
    "R2"
   ]
  },
  {
   "cell_type": "code",
   "execution_count": 33,
   "metadata": {},
   "outputs": [
    {
     "data": {
      "text/plain": [
       "Text(0.5, 1.0, 'Valor Actual vs predicción')"
      ]
     },
     "execution_count": 33,
     "metadata": {},
     "output_type": "execute_result"
    },
    {
     "data": {
      "image/png": "[encoded data removed]",
      "text/plain": [
       "<Figure size 432x288 with 1 Axes>"
      ]
     },
     "metadata": {
      "needs_background": "light"
     },
     "output_type": "display_data"
    }
   ],
   "source": [
    "%matplotlib inline\n",
    "plt.plot(data['x'],data['y_prediccion'])\n",
    "plt.plot(data['x'],data['y_actual'],'ro')\n",
    "plt.plot(data['x'],y_mean,'g')\n",
    "plt.plot(data['x'],data['y_model'])\n",
    "plt.title('Valor Actual vs predicción') #El modelo y la predicción son bastante parecidos"
   ]
  },
  {
   "cell_type": "markdown",
   "metadata": {},
   "source": [
    "### Error estándar de los residuos (RSE)"
   ]
  },
  {
   "cell_type": "code",
   "execution_count": 35,
   "metadata": {},
   "outputs": [
    {
     "data": {
      "text/plain": [
       "0.8808582016240423"
      ]
     },
     "execution_count": 35,
     "metadata": {},
     "output_type": "execute_result"
    }
   ],
   "source": [
    "rse = np.sqrt(SSD/(len(data)-2)) #Cuanto menor sea, mucho mejor es el modelo\n",
    "rse"
   ]
  },
  {
   "cell_type": "code",
   "execution_count": 36,
   "metadata": {},
   "outputs": [
    {
     "data": {
      "text/plain": [
       "5.581328491161139"
      ]
     },
     "execution_count": 36,
     "metadata": {},
     "output_type": "execute_result"
    }
   ],
   "source": [
    "np.mean(data['y_actual']) #Error de 0.88 sobre el 5.58"
   ]
  },
  {
   "cell_type": "code",
   "execution_count": 37,
   "metadata": {},
   "outputs": [
    {
     "data": {
      "text/plain": [
       "0.1578223182919643"
      ]
     },
     "execution_count": 37,
     "metadata": {},
     "output_type": "execute_result"
    }
   ],
   "source": [
    "rse/np.mean(data['y_actual'])  #15% de error"
   ]
  }
 ],
 "metadata": {
  "kernelspec": {
   "display_name": "Python 3",
   "language": "python",
   "name": "python3"
  },
  "language_info": {
   "codemirror_mode": {
    "name": "ipython",
    "version": 3
   },
   "file_extension": ".py",
   "mimetype": "text/x-python",
   "name": "python",
   "nbconvert_exporter": "python",
   "pygments_lexer": "ipython3",
   "version": "3.7.3"
  }
 },
 "nbformat": 4,
 "nbformat_minor": 4
}
