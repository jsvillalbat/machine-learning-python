{
 "cells": [
  {
   "cell_type": "code",
   "execution_count": 1,
   "metadata": {},
   "outputs": [],
   "source": [
    "import pandas as pd\n",
    "import numpy as np"
   ]
  },
  {
   "cell_type": "code",
   "execution_count": 2,
   "metadata": {},
   "outputs": [],
   "source": [
    "import matplotlib.pyplot as plt\n",
    "%matplotlib inline"
   ]
  },
  {
   "cell_type": "code",
   "execution_count": 3,
   "metadata": {},
   "outputs": [],
   "source": [
    "import rpy2.robjects as ro\n",
    "import rpy2.robjects.numpy2ri"
   ]
  },
  {
   "cell_type": "code",
   "execution_count": 4,
   "metadata": {},
   "outputs": [],
   "source": [
    "rpy2.robjects.numpy2ri.activate()"
   ]
  },
  {
   "cell_type": "code",
   "execution_count": 5,
   "metadata": {},
   "outputs": [],
   "source": [
    "codigo_r = \"\"\"\n",
    "saludar <- function(cadena){\n",
    "    return(paste(\"Hola, \", cadena))\n",
    "}\n",
    "\"\"\""
   ]
  },
  {
   "cell_type": "code",
   "execution_count": 6,
   "metadata": {},
   "outputs": [
    {
     "data": {
      "text/plain": [
       "R object with classes: ('function',) mapped to:\n",
       "<SignatureTranslatedFunction - Python:0x00000240ABFA8588 / R:0x00000240B69EF350>"
      ]
     },
     "execution_count": 6,
     "metadata": {},
     "output_type": "execute_result"
    }
   ],
   "source": [
    "ro.r(codigo_r)"
   ]
  },
  {
   "cell_type": "code",
   "execution_count": 7,
   "metadata": {},
   "outputs": [],
   "source": [
    "saludar_py = ro.globalenv['saludar']"
   ]
  },
  {
   "cell_type": "code",
   "execution_count": 8,
   "metadata": {},
   "outputs": [
    {
     "data": {
      "text/html": [
       "\n",
       "    <span>StrVector with 1 elements.</span>\n",
       "    <table>\n",
       "      <tbody>\n",
       "      <tr>\n",
       "      \n",
       "      <td>\n",
       "        'Hola,  Antonio Banderas'\n",
       "      </td>\n",
       "      \n",
       "      </tr>\n",
       "      </tbody>\n",
       "    </table>\n",
       "    "
      ],
      "text/plain": [
       "R object with classes: ('character',) mapped to:\n",
       "<StrVector - Python:0x00000240B643A348 / R:0x00000240B69F1740>\n",
       "['Hola,  Antonio Banderas']"
      ]
     },
     "execution_count": 8,
     "metadata": {},
     "output_type": "execute_result"
    }
   ],
   "source": [
    "saludar_py('Antonio Banderas')"
   ]
  },
  {
   "cell_type": "code",
   "execution_count": 9,
   "metadata": {},
   "outputs": [],
   "source": [
    "res = saludar_py('Antonio Banderas')"
   ]
  },
  {
   "cell_type": "code",
   "execution_count": 10,
   "metadata": {},
   "outputs": [
    {
     "data": {
      "text/plain": [
       "'Hola,  Antonio Banderas'"
      ]
     },
     "execution_count": 10,
     "metadata": {},
     "output_type": "execute_result"
    }
   ],
   "source": [
    "res[0]"
   ]
  },
  {
   "cell_type": "code",
   "execution_count": 11,
   "metadata": {},
   "outputs": [],
   "source": [
    "var_from_python = ro.FloatVector(np.arange(1,5,0.1))"
   ]
  },
  {
   "cell_type": "code",
   "execution_count": 12,
   "metadata": {},
   "outputs": [
    {
     "data": {
      "text/html": [
       "\n",
       "    <span>FloatVector with 40 elements.</span>\n",
       "    <table>\n",
       "      <tbody>\n",
       "      <tr>\n",
       "      \n",
       "      <td>\n",
       "        1.000000\n",
       "      </td>\n",
       "      \n",
       "      <td>\n",
       "        1.100000\n",
       "      </td>\n",
       "      \n",
       "      <td>\n",
       "        1.200000\n",
       "      </td>\n",
       "      \n",
       "      <td>\n",
       "        1.300000\n",
       "      </td>\n",
       "      \n",
       "      <td>\n",
       "        ...\n",
       "      </td>\n",
       "      \n",
       "      <td>\n",
       "        4.600000\n",
       "      </td>\n",
       "      \n",
       "      <td>\n",
       "        4.700000\n",
       "      </td>\n",
       "      \n",
       "      <td>\n",
       "        4.800000\n",
       "      </td>\n",
       "      \n",
       "      <td>\n",
       "        4.900000\n",
       "      </td>\n",
       "      \n",
       "      </tr>\n",
       "      </tbody>\n",
       "    </table>\n",
       "    "
      ],
      "text/plain": [
       "R object with classes: ('numeric',) mapped to:\n",
       "<FloatVector - Python:0x00000240B6447848 / R:0x00000240B6F752E8>\n",
       "[1.000000, 1.100000, 1.200000, 1.300000, ..., 4.600000, 4.700000, 4.800000, 4.900000]"
      ]
     },
     "execution_count": 12,
     "metadata": {},
     "output_type": "execute_result"
    }
   ],
   "source": [
    "var_from_python"
   ]
  },
  {
   "cell_type": "code",
   "execution_count": 13,
   "metadata": {},
   "outputs": [
    {
     "name": "stdout",
     "output_type": "stream",
     "text": [
      "c(1, 1.1, 1.2, 1.3, 1.4, 1.5, 1.6, 1.7, 1.8, 1.9, 2, 2.1, 2.2, \n",
      "2.3, 2.4, 2.5, 2.6, 2.7, 2.8, 2.9, 3, 3.1, 3.2, 3.3, 3.4, 3.5, \n",
      "3.6, 3.7, 3.8, 3.9, 4, 4.1, 4.2, 4.3, 4.4, 4.5, 4.6, 4.7, 4.8, \n",
      "4.9)\n"
     ]
    }
   ],
   "source": [
    "print(var_from_python.r_repr())"
   ]
  },
  {
   "cell_type": "code",
   "execution_count": 14,
   "metadata": {},
   "outputs": [],
   "source": [
    "ro.globalenv['var_to_r'] = var_from_python"
   ]
  },
  {
   "cell_type": "code",
   "execution_count": 15,
   "metadata": {},
   "outputs": [
    {
     "data": {
      "text/plain": [
       "array([1. , 1.1, 1.2, 1.3, 1.4, 1.5, 1.6, 1.7, 1.8, 1.9, 2. , 2.1, 2.2,\n",
       "       2.3, 2.4, 2.5, 2.6, 2.7, 2.8, 2.9, 3. , 3.1, 3.2, 3.3, 3.4, 3.5,\n",
       "       3.6, 3.7, 3.8, 3.9, 4. , 4.1, 4.2, 4.3, 4.4, 4.5, 4.6, 4.7, 4.8,\n",
       "       4.9])"
      ]
     },
     "execution_count": 15,
     "metadata": {},
     "output_type": "execute_result"
    }
   ],
   "source": [
    "ro.r('var_to_r')"
   ]
  },
  {
   "cell_type": "code",
   "execution_count": 16,
   "metadata": {},
   "outputs": [
    {
     "data": {
      "text/plain": [
       "array([118.])"
      ]
     },
     "execution_count": 16,
     "metadata": {},
     "output_type": "execute_result"
    }
   ],
   "source": [
    "ro.r('sum(var_to_r)')"
   ]
  },
  {
   "cell_type": "code",
   "execution_count": 17,
   "metadata": {},
   "outputs": [
    {
     "data": {
      "text/plain": [
       "array([1.16904519])"
      ]
     },
     "execution_count": 17,
     "metadata": {},
     "output_type": "execute_result"
    }
   ],
   "source": [
    "ro.r('sd(var_to_r)')"
   ]
  },
  {
   "cell_type": "code",
   "execution_count": 18,
   "metadata": {},
   "outputs": [
    {
     "data": {
      "text/plain": [
       "118.00000000000007"
      ]
     },
     "execution_count": 18,
     "metadata": {},
     "output_type": "execute_result"
    }
   ],
   "source": [
    "np.sum(var_from_python)"
   ]
  },
  {
   "cell_type": "code",
   "execution_count": 19,
   "metadata": {},
   "outputs": [
    {
     "data": {
      "text/plain": [
       "2.950000000000002"
      ]
     },
     "execution_count": 19,
     "metadata": {},
     "output_type": "execute_result"
    }
   ],
   "source": [
    "np.mean(var_from_python)"
   ]
  },
  {
   "cell_type": "code",
   "execution_count": 20,
   "metadata": {},
   "outputs": [
    {
     "data": {
      "text/plain": [
       "array([1.   , 1.975, 2.95 , 2.95 , 3.925, 4.9  ])"
      ]
     },
     "execution_count": 20,
     "metadata": {},
     "output_type": "execute_result"
    }
   ],
   "source": [
    "ro.r('summary(var_to_r)')"
   ]
  },
  {
   "cell_type": "code",
   "execution_count": 22,
   "metadata": {},
   "outputs": [
    {
     "data": {
      "text/html": [
       "\n",
       "    <span>ListVector with 6 elements.</span>\n",
       "    <table>\n",
       "      <tbody>\n",
       "      \n",
       "      <tr>\n",
       "      <th>\n",
       "        breaks\n",
       "      </th>\n",
       "      <td>\n",
       "        \n",
       "    <span>FloatVector with 9 elements.</span>\n",
       "    <table>\n",
       "      <tbody>\n",
       "      <tr>\n",
       "      \n",
       "      <td>\n",
       "        1.000000\n",
       "      </td>\n",
       "      \n",
       "      <td>\n",
       "        1.500000\n",
       "      </td>\n",
       "      \n",
       "      <td>\n",
       "        2.000000\n",
       "      </td>\n",
       "      \n",
       "      <td>\n",
       "        2.500000\n",
       "      </td>\n",
       "      \n",
       "      <td>\n",
       "        ...\n",
       "      </td>\n",
       "      \n",
       "      <td>\n",
       "        3.500000\n",
       "      </td>\n",
       "      \n",
       "      <td>\n",
       "        4.000000\n",
       "      </td>\n",
       "      \n",
       "      <td>\n",
       "        4.500000\n",
       "      </td>\n",
       "      \n",
       "      <td>\n",
       "        5.000000\n",
       "      </td>\n",
       "      \n",
       "      </tr>\n",
       "      </tbody>\n",
       "    </table>\n",
       "    \n",
       "      </td>\n",
       "      </tr>\n",
       "      \n",
       "      <tr>\n",
       "      <th>\n",
       "        counts\n",
       "      </th>\n",
       "      <td>\n",
       "        \n",
       "    <span>IntVector with 8 elements.</span>\n",
       "    <table>\n",
       "      <tbody>\n",
       "      <tr>\n",
       "      \n",
       "      <td>\n",
       "        6\n",
       "      </td>\n",
       "      \n",
       "      <td>\n",
       "        5\n",
       "      </td>\n",
       "      \n",
       "      <td>\n",
       "        5\n",
       "      </td>\n",
       "      \n",
       "      <td>\n",
       "        5\n",
       "      </td>\n",
       "      \n",
       "      <td>\n",
       "        5\n",
       "      </td>\n",
       "      \n",
       "      <td>\n",
       "        5\n",
       "      </td>\n",
       "      \n",
       "      <td>\n",
       "        5\n",
       "      </td>\n",
       "      \n",
       "      <td>\n",
       "        4\n",
       "      </td>\n",
       "      \n",
       "      </tr>\n",
       "      </tbody>\n",
       "    </table>\n",
       "    \n",
       "      </td>\n",
       "      </tr>\n",
       "      \n",
       "      <tr>\n",
       "      <th>\n",
       "        density\n",
       "      </th>\n",
       "      <td>\n",
       "        \n",
       "    <span>FloatVector with 8 elements.</span>\n",
       "    <table>\n",
       "      <tbody>\n",
       "      <tr>\n",
       "      \n",
       "      <td>\n",
       "        0.300000\n",
       "      </td>\n",
       "      \n",
       "      <td>\n",
       "        0.250000\n",
       "      </td>\n",
       "      \n",
       "      <td>\n",
       "        0.250000\n",
       "      </td>\n",
       "      \n",
       "      <td>\n",
       "        0.250000\n",
       "      </td>\n",
       "      \n",
       "      <td>\n",
       "        0.250000\n",
       "      </td>\n",
       "      \n",
       "      <td>\n",
       "        0.250000\n",
       "      </td>\n",
       "      \n",
       "      <td>\n",
       "        0.250000\n",
       "      </td>\n",
       "      \n",
       "      <td>\n",
       "        0.200000\n",
       "      </td>\n",
       "      \n",
       "      </tr>\n",
       "      </tbody>\n",
       "    </table>\n",
       "    \n",
       "      </td>\n",
       "      </tr>\n",
       "      \n",
       "      <tr>\n",
       "      <th>\n",
       "        mids\n",
       "      </th>\n",
       "      <td>\n",
       "        \n",
       "    <span>FloatVector with 8 elements.</span>\n",
       "    <table>\n",
       "      <tbody>\n",
       "      <tr>\n",
       "      \n",
       "      <td>\n",
       "        1.250000\n",
       "      </td>\n",
       "      \n",
       "      <td>\n",
       "        1.750000\n",
       "      </td>\n",
       "      \n",
       "      <td>\n",
       "        2.250000\n",
       "      </td>\n",
       "      \n",
       "      <td>\n",
       "        2.750000\n",
       "      </td>\n",
       "      \n",
       "      <td>\n",
       "        3.250000\n",
       "      </td>\n",
       "      \n",
       "      <td>\n",
       "        3.750000\n",
       "      </td>\n",
       "      \n",
       "      <td>\n",
       "        4.250000\n",
       "      </td>\n",
       "      \n",
       "      <td>\n",
       "        4.750000\n",
       "      </td>\n",
       "      \n",
       "      </tr>\n",
       "      </tbody>\n",
       "    </table>\n",
       "    \n",
       "      </td>\n",
       "      </tr>\n",
       "      \n",
       "      <tr>\n",
       "      <th>\n",
       "        xname\n",
       "      </th>\n",
       "      <td>\n",
       "        \n",
       "    <span>StrVector with 1 elements.</span>\n",
       "    <table>\n",
       "      <tbody>\n",
       "      <tr>\n",
       "      \n",
       "      <td>\n",
       "        'var_to_r'\n",
       "      </td>\n",
       "      \n",
       "      </tr>\n",
       "      </tbody>\n",
       "    </table>\n",
       "    \n",
       "      </td>\n",
       "      </tr>\n",
       "      \n",
       "      <tr>\n",
       "      <th>\n",
       "        equidist\n",
       "      </th>\n",
       "      <td>\n",
       "        \n",
       "    <span>BoolVector with 1 elements.</span>\n",
       "    <table>\n",
       "      <tbody>\n",
       "      <tr>\n",
       "      \n",
       "      <td>\n",
       "               1\n",
       "      </td>\n",
       "      \n",
       "      </tr>\n",
       "      </tbody>\n",
       "    </table>\n",
       "    \n",
       "      </td>\n",
       "      </tr>\n",
       "      \n",
       "      </tbody>\n",
       "    </table>\n",
       "    "
      ],
      "text/plain": [
       "R object with classes: ('histogram',) mapped to:\n",
       "<ListVector - Python:0x000001F40B3931C8 / R:0x000001F41598A368>\n",
       "[Float..., IntVe..., Float..., Float..., StrVe..., BoolV...]\n",
       "  breaks: <class 'rpy2.robjects.vectors.FloatVector'>\n",
       "  R object with classes: ('numeric',) mapped to:\n",
       "<FloatVector - Python:0x000001F40AE69388 / R:0x000001F413C16818>\n",
       "[1.000000, 1.500000, 2.000000, 2.500000, ..., 3.500000, 4.000000, 4.500000, 5.000000]\n",
       "  counts: <class 'rpy2.robjects.vectors.IntVector'>\n",
       "  R object with classes: ('integer',) mapped to:\n",
       "<IntVector - Python:0x000001F414D52648 / R:0x000001F4159812D8>\n",
       "[6, 5, 5, 5, 5, 5, 5, 4]\n",
       "  density: <class 'rpy2.robjects.vectors.FloatVector'>\n",
       "  R object with classes: ('numeric',) mapped to:\n",
       "<FloatVector - Python:0x000001F414D4D188 / R:0x000001F41598A838>\n",
       "[0.300000, 0.250000, 0.250000, 0.250000, 0.250000, 0.250000, 0.250000, 0.200000]\n",
       "  mids: <class 'rpy2.robjects.vectors.FloatVector'>\n",
       "  R object with classes: ('numeric',) mapped to:\n",
       "<FloatVector - Python:0x000001F414D4DBC8 / R:0x000001F41598A598>\n",
       "[1.250000, 1.750000, 2.250000, 2.750000, 3.250000, 3.750000, 4.250000, 4.750000]\n",
       "  xname: <class 'rpy2.robjects.vectors.StrVector'>\n",
       "  R object with classes: ('character',) mapped to:\n",
       "<StrVector - Python:0x000001F414D4D688 / R:0x000001F41597FE80>\n",
       "['var_to_r']\n",
       "  equidist: <class 'rpy2.robjects.vectors.BoolVector'>\n",
       "  R object with classes: ('logical',) mapped to:\n",
       "<BoolVector - Python:0x000001F414D52788 / R:0x000001F4119B3E10>\n",
       "[       1]"
      ]
     },
     "execution_count": 22,
     "metadata": {},
     "output_type": "execute_result"
    }
   ],
   "source": [
    "ro.r('hist(var_to_r)')"
   ]
  },
  {
   "cell_type": "markdown",
   "metadata": {},
   "source": [
    "### Trabajar de forma conjunta entre R y Python"
   ]
  },
  {
   "cell_type": "code",
   "execution_count": 21,
   "metadata": {},
   "outputs": [],
   "source": [
    "from rpy2.robjects.packages import importr #Importar librerias desde R"
   ]
  },
  {
   "cell_type": "code",
   "execution_count": 24,
   "metadata": {},
   "outputs": [],
   "source": [
    "ro.r(\"install.packages('extRemes')\") #Instalar el paquete extremes de R\n",
    "extremes = importr('extRemes')"
   ]
  },
  {
   "cell_type": "code",
   "execution_count": 25,
   "metadata": {},
   "outputs": [],
   "source": [
    "fevd = extremes.fevd"
   ]
  },
  {
   "cell_type": "code",
   "execution_count": 28,
   "metadata": {},
   "outputs": [
    {
     "name": "stdout",
     "output_type": "stream",
     "text": [
      "Python representation of an R function.\n",
      "description\n",
      "-----------\n",
      "\n",
      "\n",
      " Fit a univariate extreme value distribution functions (e.g., GEV, GP, PP, Gumbel, or Exponential) to data; possibly with covariates in the parameters.\n",
      " \n",
      "\n",
      "\n",
      "fevd(\n",
      "    x,\n",
      "    data,\n",
      "    threshold = rinterface.NULL,\n",
      "    threshold_fun = ~,\n",
      "    location_fun = ~,\n",
      "    scale_fun = ~,\n",
      "    shape_fun = ~,\n",
      "    use_phi = False,\n",
      "    type = c,\n",
      "    method = c,\n",
      "    initial = rinterface.NULL,\n",
      "    span,\n",
      "    units = rinterface.NULL,\n",
      "    time_units = days,\n",
      "    period_basis = year,\n",
      "    na_action = <rpy2.rinterface.ListSexpVector - Python:0x00000240B821CCA8 / R:0x00000240BCE6D670>,\n",
      "    optim_args = rinterface.NULL,\n",
      "    priorFun = rinterface.NULL,\n",
      "    priorParams = rinterface.NULL,\n",
      "    proposalFun = rinterface.NULL,\n",
      "    proposalParams = rinterface.NULL,\n",
      "    iter = 9999.0,\n",
      "    weights = 1.0,\n",
      "    blocks = rinterface.NULL,\n",
      "    verbose = False,\n",
      ")\n",
      "\n",
      "x :  `fevd`: `x` can be a numeric vector, the name of a column of `data` or a formula giving the data to which the EVD is to be fit.  In the case of the latter two, the `data` argument must be specified, and must have appropriately named columns.`plot` and `print` method functions: any list object returned by `fevd`. ,\n",
      "\n",
      "object :  A list object of class \\dQuote{fevd} as returned by `fevd`. ,\n",
      "\n",
      "data :  A data frame object with named columns giving the data to be fit, as well as any data necessary for modeling non-stationarity through the threshold and/or any of the parameters. ,\n",
      "\n",
      "threshold :  numeric (single or vector).  If fitting a peak over threshold (POT) model (i.e., `type` = \\dQuote{PP}, \\dQuote{GP}, \\dQuote{Exponential}) this is the threshold over which (non-inclusive) data (or excesses) are used to estimate the parameters of the distribution function.  If the length is greater than 1, then the length must be equal to either the length of `x` (or number of rows of `data`) or to the number of unique arguments in `threshold.fun`. ,\n",
      "\n",
      "threshold.fun :  formula describing a model for the thresholds using columns from `data`.  Any valid formula will work.  `data` must be supplied if this argument is anything other than ~ 1.  Not for use with `method` \\dQuote{Lmoments}. ,\n",
      "\n",
      "location.fun :  formula describing a model for each parameter using columns from `data`.  `data` must be supplied if any of these arguments are anything other than ~ 1. ,\n",
      "\n",
      "scale.fun :  formula describing a model for each parameter using columns from `data`.  `data` must be supplied if any of these arguments are anything other than ~ 1. ,\n",
      "\n",
      "shape.fun :  formula describing a model for each parameter using columns from `data`.  `data` must be supplied if any of these arguments are anything other than ~ 1. ,\n",
      "\n",
      "use.phi :  logical; should the log of the scale parameter be used in the numerical optimization (for `method` \\dQuote{MLE}, \\dQuote{GMLE} and \\dQuote{Bayesian} only)?  For the ML and GML estimation, this may make things more stable for some data. ,\n",
      "\n",
      "type :  `fevd`: character stating which EVD to fit.  Default is to fit the generalized extreme value (GEV) distribution function (df).`plot` method function: character describing which plot(s) is (are) desired.  Default is \\dQuote{primary}, which makes a 2 by 2 panel of plots including the QQ plot of the data quantiles against the fitted model quantiles (`type` \\dQuote{qq}), a QQ plot (\\dQuote{qq2}) of quantiles from model-simulated data against the data, a density plot of the data along with the model fitted density (`type` \\dQuote{density}) and a return level plot (`type` \\dQuote{rl}). In the case of a stationary (fixed) model, the return level plot will show return levels calculated for return periods given by `return.period`, along with associated CIs (calculated using default `method` arguments depending on the estimation method used in the fit.  For non-stationary models, the data are plotted as a line along with associated effective return levels for return periods of 2, 20 and 100 years (unless `return.period` is specified by the user to other values.  Other possible values for `type` include \\dQuote{hist}, which is similar to \\dQuote{density}, but shows the histogram for the data and \\dQuote{trace}, which is not used for L-moment fits.  In the case of MLE/GMLE, the trace yields a panel of plots that show the negative log-likelihood and gradient negative log-likelihood (note that the MLE gradient is currently used even for GMLE) for each of the estimated parameter(s); allowing one parameter to vary according to `prange`, while the others remain fixed at their estimated values.  In the case of Bayesian estimation, the \\dQuote{trace} option creates a panel of plots showing the posterior df and MCMC trace for each parameter. ,\n",
      "\n",
      "method :  `fevd`: character naming which type of estimation method to use.  Default is to use maximum likelihood estimation (MLE). ,\n",
      "\n",
      "initial :  A list object with any named parameter component giving the initial value estimates for starting the numerical optimization (MLE/GMLE) or the MCMC iterations (Bayesian).  In the case of MLE/GMLE, it is best to obtain a good intial guess, and in the Bayesian case, it is perhaps better to choose poor initial estimates.  If NULL (default), then L-moments estimates and estimates based on Gumbel moments will be calculated, and whichever yields the lowest negative log-likelihood is used.  In the case of `type` \\dQuote{PP}, an additional MLE/GMLE estimate is made for the generalized Pareto (GP) df, and parameters are converted to those of the Poisson Process (PP) model.  Again, the initial estimates yielding the lowest negative log-likelihoo value are used for the initial guess. ,\n",
      "\n",
      "span :  single numeric giving the number of years (or other desired temporal unit) in the data set.  Only used for POT models, and only important in the estimation for the PP model, but important for subsequent estimates of return levels for any POT model.  If missing, it will be calculated using information from `time.units`. ,\n",
      "\n",
      "units :  (optional) character giving the units of the data, which if given may be used subsequently (e.g., on plot axis labels, etc.). ,\n",
      "\n",
      "time.units :  character string that must be one of \\dQuote{hours}, \\dQuote{minutes}, \\dQuote{seconds}, \\dQuote{days}, \\dQuote{months}, \\dQuote{years}, \\dQuote{m/hour}, \\dQuote{m/minute}, \\dQuote{m/second}, \\dQuote{m/day}, \\dQuote{m/month}, or \\dQuote{m/year}; where m is a number.  If `span` is missing, then this argument is used in determining the value of `span`.  It is also returned with the output and used subsequently for plot labelling, etc. ,\n",
      "\n",
      "period.basis :  character string giving the units for the period.  Used only for plot labelling and naming output vectors from some of the method functions (e.g., for establishing what the period represents for the return period). ,\n",
      "\n",
      "rperiods :  numeric vector giving the return period(s) for which it is desired to calculate the corresponding return levels. ,\n",
      "\n",
      "period :  character string naming the units for the return period. ,\n",
      "\n",
      "burn.in :  The first `burn.in` values are thrown out before calculating anything from the MCMC sample. ,\n",
      "\n",
      "a :  when plotting empirical probabilies and such, the function `ppoints` is called, which has this argument `a`. ,\n",
      "\n",
      "d :  numeric determining how to scale the rate parameter for the point process.  If NULL, the function will attempt to scale based on the values of `period.basis` and `time.units`, the first of which must be \\dQuote{year} and the second of which must be one of \\dQuote{days}, \\dQuote{months}, \\dQuote{years}, \\dQuote{hours}, \\dQuote{minutes} or \\dQuote{seconds}.  If none of these are the case, then `d` should be specified, otherwise, it is not necessary. ,\n",
      "\n",
      "density.args :  named list object containing arguments to the `density` and `hist` functions, respectively. ,\n",
      "\n",
      "hist.args :  named list object containing arguments to the `density` and `hist` functions, respectively. ,\n",
      "\n",
      "na.action :  function to be called to handle missing values.  Generally, this should remain at the default (na.fail), and the user should take care to impute missing values in an appropriate manner as it may have serious consequences on the results. ,\n",
      "\n",
      "optim.args :  A list with named components matching exactly any arguments that the user wishes to specify to `optim`, which is used only for MLE and GMLE methods.  By default, the \\dQuote{BFGS} method is used along with `grlevd` for the gradient argument.  Generally, the `grlevd` function is used for the `gr` option unless the user specifies otherwise, or the optimization method does not take gradient information. ,\n",
      "\n",
      "priorFun :  character naming a prior df to use for methods GMLE and Bayesian.  The default for GMLE (not including Gumbel or Exponential types) is to use the one suggested by Martins and Stedinger (2000, 2001) on the shape parameter; a beta df on -0.5 to 0.5 with parameters `p` and `q`.  Must take `x` as its first argument for `method` \\dQuote{GMLE}.  Optional arguments for the default function are `p` and `q` (see details section).The default for Bayesian estimation is to use normal distribution functions.  For Bayesian estimation, this function must take `theta` as its first argument.Note: if this argument is not NULL and `method` is set to \\dQuote{MLE}, it will be changed to \\dQuote{GMLE}. ,\n",
      "\n",
      "priorParams :  named list containing any prior df parameters (where the list names are the same as the function argument names).  Default for GMLE (assuming the default function is used) is to use `q` = 6 and `p` = 9.  Note that in the Martins and Stedinger (2000, 2001) papers, they use a different EVD parametrization than is used here such that a positive shape parameter gives the upper bounded distribution instead of the heavy-tail one (as emloyed here).  To be consistent with these papers, `p` and `q` are reversed inside the code so that they have the same interpretation as in the papers.Default for Bayesian estimation is to use ML estimates for the means of each parameter (may be changed using `m`, which must be a vector of same length as the number of parameters to be estimated (i.e., if using the default prior df)) and a standard deviation of 10 for all other parameters (again, if using the default prior df, may be changed using `v`, which must be a vector of length equal to the number of parameters). ,\n",
      "\n",
      "proposalFun :  For Bayesian estimation only, this is a character naming a function used to generate proposal parameters at each iteration of the MCMC.  If NULL (default), a random walk chain is used whereby if theta.i is the current value of the parameter, the proposed new parameter theta.star is given by theta.i + z, where z is drawn at random from a normal df. ,\n",
      "\n",
      "proposalParams :  A named list object describing any optional arguments to the `proposalFun` function.  All functions must take argument `p`, which must be a vector of the parameters, and `ind`, which is used to identify which parameter is to be proposed.  The default `proposalFun` function takes additional arguments `mean` and `sd`, which must be vectors of length equal to the number of parameters in the model (default is to use zero for the mean of z for every parameter and 0.1 for its standard deviation). ,\n",
      "\n",
      "iter :  Used only for Bayesian estimation, this is the number of MCMC iterations to do. ,\n",
      "\n",
      "weights :  numeric of length 1 or n giving weights to be applied     in the likelihood calculations (e.g., if there are data points to     be weighted more/less heavily than others). ,\n",
      "\n",
      "blocks :  An optional list containing information required to fit point process models in a computationally-efficient manner by using only the exceedances and not the observations below the threshold(s). See details for further information.       ,\n",
      "\n",
      "FUN :  character string naming a function to use to estimate the parameters from the MCMC sample.  The function is applied to each column of the `results` component of the returned `fevd` object. ,\n",
      "\n",
      "verbose :  logical; should progress information be printed to the screen?  If TRUE, for MLE/GMLE, the argument `trace` will be set to 6 in the call to `optim`. ,\n",
      "\n",
      "prange :  matrix whose columns are numeric vectors of length two for each parameter in the model giving the parameter range over which trace plots should be made.  Default is to use either +/- 2 * std. err. of the parameter (first choice) or, if the standard error cannot be calculated, then +/- 2 * log2(abs(parameter)).  Typically, these values seem to work very well for these plots. ,\n",
      "\n",
      "... :  Not used by most functions here.  Optional arguments to `plot` for the various `plot` method functions.In the case of the `summary` method functions, the logical argument `silent` may be passed to suppress (if TRUE) printing any information to the screen. ,\n",
      "\n"
     ]
    }
   ],
   "source": [
    "print(fevd.__doc__) #Documentación"
   ]
  },
  {
   "cell_type": "code",
   "execution_count": 33,
   "metadata": {},
   "outputs": [],
   "source": [
    "data = pd.read_csv(\"python-ml-course-master/datasets/time/time_series.txt\",sep = \"\\s+\",skiprows = 1, parse_dates = [[0,1]], names = [\"date\",\"time\",\"wind_speed\"],index_col = 0)"
   ]
  },
  {
   "cell_type": "code",
   "execution_count": 34,
   "metadata": {},
   "outputs": [
    {
     "data": {
      "text/html": [
       "<div>\n",
       "<style scoped>\n",
       "    .dataframe tbody tr th:only-of-type {\n",
       "        vertical-align: middle;\n",
       "    }\n",
       "\n",
       "    .dataframe tbody tr th {\n",
       "        vertical-align: top;\n",
       "    }\n",
       "\n",
       "    .dataframe thead th {\n",
       "        text-align: right;\n",
       "    }\n",
       "</style>\n",
       "<table border=\"1\" class=\"dataframe\">\n",
       "  <thead>\n",
       "    <tr style=\"text-align: right;\">\n",
       "      <th></th>\n",
       "      <th>wind_speed</th>\n",
       "    </tr>\n",
       "    <tr>\n",
       "      <th>date_time</th>\n",
       "      <th></th>\n",
       "    </tr>\n",
       "  </thead>\n",
       "  <tbody>\n",
       "    <tr>\n",
       "      <th>1983-01-01 00:00:00</th>\n",
       "      <td>7.9</td>\n",
       "    </tr>\n",
       "    <tr>\n",
       "      <th>1983-01-01 01:00:00</th>\n",
       "      <td>8.2</td>\n",
       "    </tr>\n",
       "    <tr>\n",
       "      <th>1983-01-01 02:00:00</th>\n",
       "      <td>8.5</td>\n",
       "    </tr>\n",
       "    <tr>\n",
       "      <th>1983-01-01 03:00:00</th>\n",
       "      <td>9.0</td>\n",
       "    </tr>\n",
       "    <tr>\n",
       "      <th>1983-01-01 04:00:00</th>\n",
       "      <td>9.9</td>\n",
       "    </tr>\n",
       "  </tbody>\n",
       "</table>\n",
       "</div>"
      ],
      "text/plain": [
       "                     wind_speed\n",
       "date_time                      \n",
       "1983-01-01 00:00:00         7.9\n",
       "1983-01-01 01:00:00         8.2\n",
       "1983-01-01 02:00:00         8.5\n",
       "1983-01-01 03:00:00         9.0\n",
       "1983-01-01 04:00:00         9.9"
      ]
     },
     "execution_count": 34,
     "metadata": {},
     "output_type": "execute_result"
    }
   ],
   "source": [
    "data.head(5)"
   ]
  },
  {
   "cell_type": "code",
   "execution_count": 35,
   "metadata": {},
   "outputs": [
    {
     "data": {
      "text/plain": [
       "(275352, 1)"
      ]
     },
     "execution_count": 35,
     "metadata": {},
     "output_type": "execute_result"
    }
   ],
   "source": [
    "data.shape"
   ]
  },
  {
   "cell_type": "code",
   "execution_count": 36,
   "metadata": {},
   "outputs": [
    {
     "name": "stderr",
     "output_type": "stream",
     "text": [
      "C:\\Users\\LENOVO\\Anaconda3\\lib\\site-packages\\ipykernel_launcher.py:1: FutureWarning: pd.TimeGrouper is deprecated and will be removed; Please use pd.Grouper(freq=...)\n",
      "  \"\"\"Entry point for launching an IPython kernel.\n"
     ]
    }
   ],
   "source": [
    "max_ws = data.wind_speed.groupby(pd.TimeGrouper(freq='A')).max()"
   ]
  },
  {
   "cell_type": "code",
   "execution_count": 37,
   "metadata": {},
   "outputs": [
    {
     "data": {
      "text/plain": [
       "date_time\n",
       "1983-12-31    22.2\n",
       "1984-12-31    25.5\n",
       "1985-12-31    21.5\n",
       "1986-12-31    22.5\n",
       "1987-12-31    23.7\n",
       "1988-12-31    22.5\n",
       "1989-12-31    21.7\n",
       "1990-12-31    29.7\n",
       "1991-12-31    24.2\n",
       "1992-12-31    23.8\n",
       "1993-12-31    28.1\n",
       "1994-12-31    23.4\n",
       "1995-12-31    23.7\n",
       "1996-12-31    25.6\n",
       "1997-12-31    23.2\n",
       "1998-12-31    24.9\n",
       "1999-12-31    22.8\n",
       "2000-12-31    24.6\n",
       "2001-12-31    22.3\n",
       "2002-12-31    25.5\n",
       "2003-12-31    22.6\n",
       "2004-12-31    24.0\n",
       "2005-12-31    20.8\n",
       "2006-12-31    23.5\n",
       "2007-12-31    24.4\n",
       "2008-12-31    24.1\n",
       "2009-12-31    25.1\n",
       "2010-12-31    19.4\n",
       "2011-12-31    22.8\n",
       "2012-12-31    24.2\n",
       "2013-12-31    25.0\n",
       "2014-12-31    25.3\n",
       "Freq: A-DEC, Name: wind_speed, dtype: float64"
      ]
     },
     "execution_count": 37,
     "metadata": {},
     "output_type": "execute_result"
    }
   ],
   "source": [
    "max_ws"
   ]
  },
  {
   "cell_type": "code",
   "execution_count": 38,
   "metadata": {},
   "outputs": [
    {
     "data": {
      "text/plain": [
       "<matplotlib.axes._subplots.AxesSubplot at 0x240c4c136d8>"
      ]
     },
     "execution_count": 38,
     "metadata": {},
     "output_type": "execute_result"
    },
    {
     "data": {
      "image/png": "[encoded data removed]",
      "text/plain": [
       "<Figure size 1152x648 with 1 Axes>"
      ]
     },
     "metadata": {
      "needs_background": "light"
     },
     "output_type": "display_data"
    }
   ],
   "source": [
    "max_ws.plot(kind='bar',figsize=(16,9))"
   ]
  },
  {
   "cell_type": "code",
   "execution_count": 39,
   "metadata": {},
   "outputs": [],
   "source": [
    "result = fevd(max_ws.values,type= 'GEV',method = 'GMLE')"
   ]
  },
  {
   "cell_type": "code",
   "execution_count": 40,
   "metadata": {},
   "outputs": [
    {
     "name": "stdout",
     "output_type": "stream",
     "text": [
      "<class 'rpy2.robjects.vectors.ListVector'>\n"
     ]
    }
   ],
   "source": [
    "print(type(result))"
   ]
  },
  {
   "cell_type": "code",
   "execution_count": 41,
   "metadata": {},
   "outputs": [
    {
     "data": {
      "text/plain": [
       "'structure(list(call = (function (x, data, threshold = NULL, threshold.fun = ~1, \\n    location.fun = ~1, scale.fun = ~1, shape.fun = ~1, use.phi = FALSE, \\n    type = c(\"GEV\", \"GP\", \"PP\", \"Gumbel\", \"Exponential\"), method = c(\"MLE\", \\n        \"GMLE\", \"Bayesian\", \"Lmoments\"), initial = NULL, span, \\n    units = NULL, time.units = \"days\", period.basis = \"year\", \\n    na.action = na.fail, optim.args = NULL, priorFun = NULL, \\n    priorParams = NULL, proposalFun = NULL, proposalParams = NULL, \\n    iter = 9999, weights = 1, blocks = NULL, verbose = FALSE) \\n{\\n    if (verbose) \\n        begin.tiid <- Sys.time()\\n    out <- list()\\n    inout <- list()\\n    out$call <- match.call()\\n    if (!missing(data)) {\\n        out$data.name <- c(deparse(substitute(x)), deparse(substitute(data)))\\n    }\\n    else {\\n        out$data.name <- c(deparse(substitute(x)), \"\")\\n    }\\n    type <- match.arg(type)\\n    method <- match.arg(method)\\n    out$weights <- weights\\n    if (!missing(data)) {\\n        if (is.element(out$data.name[1], colnames(data))) {\\n            out$in.data <- TRUE\\n            wc <- out$data.name[1] == colnames(data)\\n            x <- c(data[, wc])\\n            x.fun <- ifelse(out$data.name[1] == \"substitute(x)\", \\n                deparse(x), out$data.name[1])\\n            x.fun <- formula(paste(x.fun, \"~ 1\"))\\n            out$x.fun <- x.fun\\n        }\\n        else if (is.formula(x)) {\\n            out$in.data <- TRUE\\n            x.fun <- x\\n            out$x.fun <- x.fun\\n            x <- model.response(model.frame(x.fun, data = data))\\n        }\\n        else out$in.data <- FALSE\\n        if (length(x) != nrow(data)) \\n            stop(\"fevd: data must have same number of rows as the length of x.\")\\n        if (!identical(weights, 1) && length(x) != length(weights)) \\n            stop(\"fevd: weights should be the same length as x.\")\\n        out$missing.values <- is.na(x)\\n        tmp <- cbind(x, data)\\n        tmp <- na.action(tmp)\\n        x <- tmp[, 1]\\n        data <- tmp[, -1, drop = FALSE]\\n    }\\n    else {\\n        out$missing.values <- is.na(x)\\n        if (is.formula(x)) \\n            stop(\"fevd: Must provide data argument if you supply a formula to the x argument.\")\\n        x <- na.action(x)\\n        out$in.data <- FALSE\\n    }\\n    if (!out$in.data) {\\n        data.pointer <- as.character(substitute(x))\\n        if (length(data.pointer) > 1) \\n            out$x <- x\\n        else out$data.pointer <- data.pointer\\n    }\\n    if (!is.null(blocks)) {\\n        if (type == \"PP\") {\\n            if (!is.element(\"nBlocks\", names(blocks))) {\\n                if (is.element(\"data\", names(blocks))) {\\n                  blocks$nBlocks <- nrow(blocks$data)\\n                }\\n                else stop(\"fevd: When supplying blocks, must provide \\'blocks$nBlocks\\' if \\'blocks$data\\' is  not provided.\")\\n            }\\n            if (!is.element(\"weights\", names(blocks))) \\n                blocks$weights <- 1\\n            if (!is.element(\"proportionMissing\", names(blocks))) \\n                blocks$proportionMissing <- 0\\n            if (!is.element(\"threshold\", names(blocks)) && !is.null(threshold)) {\\n                if (length(threshold) == 1) {\\n                  blocks$threshold <- threshold\\n                }\\n                else {\\n                  stop(\"fevd: No blocks$threshold specified and threshold is not constant. User must supply the threshold for each block via blocks$threshold.\")\\n                }\\n            }\\n        }\\n        else {\\n            warning(\"fevd: Blocks are used only for type \\'PP\\'; ignoring blocks argument.\")\\n            blocks <- NULL\\n        }\\n    }\\n    out$x <- x\\n    if (!missing(data)) \\n        out$cov.data <- data\\n    if (method == \"MLE\" && !is.null(priorFun)) \\n        method <- \"GMLE\"\\n    else if (method == \"GMLE\" && is.null(priorFun)) {\\n        if (shape.fun != ~1) \\n            stop(\"fevd: must supply a prior function for GMLE method when shape parameter varies.\")\\n        if (is.element(type, c(\"GEV\", \"GP\", \"PP\"))) {\\n            priorFun <- \"shapePriorBeta\"\\n            if (is.null(priorParams)) \\n                priorParams <- list(q = 6, p = 9)\\n        }\\n        else {\\n            warning(\"fevd: Using method MLE.  No default for specified arguments.\")\\n            method <- \"MLE\"\\n        }\\n    }\\n    if (method == \"GMLE\") {\\n        out$priorFun <- priorFun\\n        out$priorParams <- priorParams\\n    }\\n    out$method <- method\\n    method <- tolower(method)\\n    out$type <- type\\n    type <- tolower(type)\\n    out$period.basis <- period.basis\\n    out$optim.args <- optim.args\\n    out$units <- units\\n    if (method == \"bayesian\" && missing(use.phi)) {\\n        use.phi <- TRUE\\n        if (verbose) \\n            cat(\"\\\\n\", \"Setting use.phi argument to TRUE for greater stability in estimation (default with Bayesian method).  Use use.phi=FALSE if you prefer that.\\\\n\")\\n    }\\n    out$par.models <- list(threshold = threshold.fun, location = location.fun, \\n        scale = scale.fun, log.scale = use.phi, shape = shape.fun, \\n        term.names = list(threshold = all.vars(threshold.fun), \\n            location = all.vars(location.fun), scale = all.vars(scale.fun), \\n            shape = all.vars(shape.fun)))\\n    pars <- list()\\n    if (is.element(type, c(\"gp\", \"pp\", \"exponential\", \"beta\", \\n        \"pareto\"))) {\\n        const.thresh <- check.constant(threshold.fun) & check.constant(threshold)\\n        out$const.thresh <- const.thresh\\n    }\\n    if (is.element(type, c(\"gev\", \"pp\", \"gumbel\", \"weibull\", \\n        \"frechet\"))) {\\n        const.loc <- check.constant(location.fun)\\n        out$const.loc <- const.loc\\n    }\\n    const.scale <- check.constant(scale.fun)\\n    out$const.scale <- const.scale\\n    const.shape <- check.constant(shape.fun)\\n    out$const.shape <- const.shape\\n    if (is.element(type, c(\"pp\", \"gp\", \"exponential\", \"beta\", \\n        \"pareto\"))) {\\n        if (missing(span)) {\\n            if (is.null(blocks)) {\\n                tiden <- attributes(x)$times\\n                n <- length(x)\\n                if (is.null(tiden)) {\\n                  tiden <- 1:n\\n                  start <- 1\\n                  end <- n\\n                  span <- end - start\\n                }\\n                else {\\n                  start <- tiden[1]\\n                  end <- tiden[n]\\n                  span <- as.numeric(difftime(as.POSIXlt(tiden)[n], \\n                    as.POSIXlt(tiden)[1], units = time.units))\\n                }\\n            }\\n            else {\\n                span <- blocks$nBlocks\\n            }\\n        }\\n        if (time.units == \"days\") \\n            npy <- 365.25\\n        else if (time.units == \"months\") \\n            npy <- 12\\n        else if (time.units == \"years\") \\n            npy <- 1\\n        else if (time.units == \"hours\") \\n            npy <- 24 * 365.25\\n        else if (time.units == \"minutes\") \\n            npy <- 60 * 24 * 365.25\\n        else if (time.units == \"seconds\") \\n            npy <- 60 * 60 * 24 * 365.25\\n        else {\\n            tmp.units <- unlist(strsplit(time.units, split = \"/\"))\\n            if (length(tmp.units) != 2) \\n                stop(\"fevd: invalid time.units argument.\")\\n            numper <- as.numeric(tmp.units[1])\\n            if (is.na(numper)) \\n                stop(\"fevd: invalid time.units argument.\")\\n            pertiid <- tmp.units[2]\\n            if (!is.element(pertiid, c(\"day\", \"month\", \"year\", \\n                \"hour\", \"minute\", \"second\"))) \\n                stop(\"fevd: invalid time.units argument.\")\\n            if (pertiid == \"year\") \\n                npy <- numper\\n            else if (pertiid == \"month\") \\n                npy <- numper * 12\\n            else if (pertiid == \"day\") \\n                npy <- numper * 365.25\\n            else if (pertiid == \"hour\") \\n                npy <- numper * 24 * 365.25\\n            else if (pertiid == \"minute\") \\n                npy <- numper * 60 * 24 * 365.25\\n            else if (pertiid == \"second\") \\n                npy <- numper * 60 * 60 * 24 * 365.25\\n        }\\n        if (!is.null(blocks)) \\n            span <- span * npy\\n        out$time.units <- time.units\\n        out$span <- span/npy\\n        out$npy <- npy\\n        if (verbose) \\n            cat(\"\\\\n\", \"Data span \", span/npy, \"years\", \"\\\\n\")\\n    }\\n    else npy <- NULL\\n    n <- length(x)\\n    out$n <- n\\n    out$na.action <- deparse(substitute(na.action))\\n    if (!is.null(initial)) {\\n        if (!is.list(initial)) \\n            stop(\"fevd: initial must be NULL or a list object.\")\\n        find.init <- FALSE\\n        if (is.null(initial$location) && is.element(type, c(\"gev\", \\n            \"pp\", \"gumbel\", \"weibull\", \"frechet\"))) \\n            find.init <- TRUE\\n        if (use.phi && is.null(initial$log.scale)) \\n            find.init <- TRUE\\n        if (!use.phi && is.null(initial$scale)) \\n            find.init <- TRUE\\n        if (!is.element(type, c(\"gumbel\", \"exponential\")) && \\n            is.null(initial$shape)) \\n            find.init <- TRUE\\n    }\\n    else {\\n        initial <- list()\\n        find.init <- TRUE\\n    }\\n    if (method != \"lmoments\") {\\n        if (verbose) \\n            cat(\"Setting up parameter model design matrices.\\\\n\")\\n        designs <- list()\\n        if (!missing(data)) {\\n            if (is.element(type, c(\"gp\", \"pp\", \"exponential\", \\n                \"beta\", \"pareto\"))) \\n                X.u <- setup.design(x = threshold.fun, data = data, \\n                  n = n, dname = \"threshold.fun\")\\n            if (is.element(type, c(\"gev\", \"pp\", \"gumbel\", \"weibull\", \\n                \"frechet\"))) {\\n                X.loc <- setup.design(x = location.fun, data = data, \\n                  n = n, const = const.loc, dname = \"location.fun\")\\n                designs$X.loc <- X.loc\\n            }\\n            X.sc <- setup.design(x = scale.fun, data = data, \\n                n = n, const = const.scale, dname = \"scale.fun\")\\n            designs$X.sc <- X.sc\\n            if (!is.element(type, c(\"gumbel\", \"exponential\"))) {\\n                X.sh <- setup.design(x = shape.fun, data = data, \\n                  n = n, const = const.shape, dname = \"shape.fun\")\\n                designs$X.sh <- X.sh\\n            }\\n        }\\n        else {\\n            if (is.element(type, c(\"gp\", \"pp\", \"exponential\", \\n                \"beta\", \"pareto\"))) \\n                X.u <- setup.design(x = threshold.fun, n = n, \\n                  dname = \"threshold.fun\")\\n            if (is.element(type, c(\"gev\", \"pp\", \"gumbel\", \"weibull\", \\n                \"frechet\"))) {\\n                X.loc <- setup.design(x = location.fun, n = n, \\n                  const = const.loc, dname = \"location.fun\")\\n                designs$X.loc <- X.loc\\n            }\\n            X.sc <- setup.design(x = scale.fun, n = n, const = const.scale, \\n                dname = \"scale.fun\")\\n            designs$X.sc <- X.sc\\n            if (!is.element(type, c(\"gumbel\", \"exponential\"))) {\\n                X.sh <- setup.design(x = shape.fun, n = n, const = const.shape, \\n                  dname = \"shape.fun\")\\n                designs$X.sh <- X.sh\\n            }\\n        }\\n        if (!is.null(blocks)) {\\n            blocks$designs <- list()\\n            if (is.element(\"data\", names(blocks))) {\\n                blocks$X.u <- setup.design(x = threshold.fun, \\n                  data = blocks$data, n = blocks$nBlocks, dname = \"threshold.fun\")\\n                blocks$designs$X.loc <- setup.design(x = location.fun, \\n                  data = blocks$data, n = blocks$nBlocks, const = const.loc, \\n                  dname = \"location.fun\")\\n                blocks$designs$X.sc <- setup.design(x = scale.fun, \\n                  data = blocks$data, n = blocks$nBlocks, const = const.scale, \\n                  dname = \"scale.fun\")\\n                blocks$designs$X.sh <- setup.design(x = shape.fun, \\n                  data = blocks$data, n = blocks$nBlocks, const = const.shape, \\n                  dname = \"shape.fun\")\\n            }\\n            else {\\n                blocks$X.u <- setup.design(x = threshold.fun, \\n                  n = blocks$nBlocks, dname = \"threshold.fun\")\\n                blocks$designs$X.loc <- setup.design(x = location.fun, \\n                  n = blocks$nBlocks, const = const.loc, dname = \"location.fun\")\\n                blocks$designs$X.sc <- setup.design(x = scale.fun, \\n                  n = blocks$nBlocks, const = const.scale, dname = \"scale.fun\")\\n                blocks$designs$X.sh <- setup.design(x = shape.fun, \\n                  n = blocks$nBlocks, const = const.shape, dname = \"shape.fun\")\\n            }\\n        }\\n        if (verbose) \\n            cat(\"Parameter model design matrices set up.\\\\n\")\\n    }\\n    if (is.element(type, c(\"gp\", \"pp\", \"exponential\", \"beta\", \\n        \"pareto\"))) {\\n        if (method != \"lmoments\") \\n            threshold <- rowSums(matrix(threshold, n, ncol(X.u), \\n                byrow = TRUE) * X.u)\\n        if (!is.null(blocks)) \\n            blocks$threshold <- rowSums(matrix(blocks$threshold, \\n                blocks$nBlocks, ncol(blocks$X.u), byrow = TRUE) * \\n                blocks$X.u)\\n        excess.id <- x > threshold\\n        if (all(threshold == threshold[1])) \\n            out$threshold <- threshold[1]\\n        else out$threshold <- threshold\\n        out$rate <- mean(excess.id)\\n    }\\n    out$blocks <- blocks\\n    if (method == \"lmoments\" || find.init) {\\n        if (method == \"lmoments\") {\\n            if (verbose) \\n                cat(\"Beginning estimation procedure.\\\\n\")\\n            is.constant <- unlist(lapply(list(u = threshold, \\n                loc = location.fun, scale = scale.fun, sh = shape.fun), \\n                check.constant))\\n            if (!all(is.constant)) \\n                warning(\"fevd: For method Lmoments, this function does not handle covariates in the parameters.  Fitting w/o covariates.\")\\n            if (!is.element(type, c(\"gev\", \"gp\"))) \\n                stop(\"fevd: currently, Lmoments are only handled for estimation of GEV and GP distribution parameters.\")\\n        }\\n        xtemp <- x\\n        class(xtemp) <- \"lmoments\"\\n        ipars1 <- try(initializer(xtemp, model = type, threshold = threshold, \\n            npy = npy, blocks = blocks), silent = TRUE)\\n        if (all(class(ipars1) != \"try-error\")) {\\n            if (ipars1[\"scale\"] <= 0) \\n                ipars1[\"scale\"] <- 1e-08\\n            if (method == \"lmoments\") {\\n                out$results <- ipars1\\n                class(out) <- \"fevd\"\\n                return(out)\\n            }\\n        }\\n        else {\\n            ipars1 <- NULL\\n            if (method == \"lmoments\") \\n                stop(\"fevd: Sorry, could not find L-moments estimates.\")\\n        }\\n    }\\n    if ((method != \"lmoments\") && find.init) {\\n        xtemp <- x\\n        class(xtemp) <- \"moms\"\\n        ipars2 <- try(initializer(xtemp, model = type, threshold = threshold, \\n            npy = npy, blocks = blocks), silent = TRUE)\\n        if (all(class(ipars2) != \"try-error\")) {\\n            if (ipars2[\"scale\"] <= 0) \\n                ipars2[\"scale\"] <- 1e-08\\n        }\\n        else ipars2 <- NULL\\n        if (!is.element(type, c(\"pp\", \"gp\", \"exponential\", \"beta\", \\n            \"pareto\", \"gumbel\"))) {\\n            if (!is.null(ipars1)) \\n                testLmoments <- levd(x, location = ipars1[\"location\"], \\n                  scale = ipars1[\"scale\"], shape = ipars1[\"shape\"], \\n                  type = out$type, npy = npy)\\n            else testLmoments <- Inf\\n            if (!is.null(ipars2)) \\n                testMoments <- levd(x, location = ipars2[\"location\"], \\n                  scale = ipars2[\"scale\"], shape = ipars2[\"shape\"], \\n                  type = out$type, npy = npy)\\n            else testMoments <- Inf\\n        }\\n        else if (type == \"pp\") {\\n            if (!is.null(ipars1)) {\\n                if (!is.null(blocks)) {\\n                  blocks$location = ipars1[\"location\"]\\n                  blocks$scale = ipars1[\"scale\"]\\n                  blocks$shape = ipars1[\"shape\"]\\n                }\\n                testLmoments <- levd(x, threshold = threshold, \\n                  location = ipars1[\"location\"], scale = ipars1[\"scale\"], \\n                  shape = ipars1[\"shape\"], type = out$type, npy = npy, \\n                  blocks = blocks)\\n            }\\n            else testLmoments <- Inf\\n            if (!is.null(ipars2)) {\\n                if (!is.null(blocks)) {\\n                  blocks$location = ipars2[\"location\"]\\n                  blocks$scale = ipars2[\"scale\"]\\n                  blocks$shape = ipars2[\"shape\"]\\n                }\\n                testMoments <- levd(x, threshold = threshold, \\n                  location = ipars2[\"location\"], scale = ipars2[\"scale\"], \\n                  shape = ipars2[\"shape\"], type = out$type, npy = npy, \\n                  blocks = blocks)\\n            }\\n            else testMoments <- Inf\\n            if (!is.null(blocks)) \\n                blocks$location <- blocks$scale <- blocks$shape <- NULL\\n        }\\n        else if (!is.element(type, c(\"gumbel\", \"exponential\"))) {\\n            if (!is.null(ipars1)) \\n                testLmoments <- levd(x, threshold = threshold, \\n                  scale = ipars1[\"scale\"], shape = ipars1[\"shape\"], \\n                  type = out$type, npy = npy)\\n            else testLmoments <- Inf\\n            if (!is.null(ipars2)) \\n                testMoments <- levd(x, threshold = threshold, \\n                  scale = ipars2[\"scale\"], shape = ipars2[\"shape\"], \\n                  type = out$type, npy = npy)\\n            else testMoments <- Inf\\n        }\\n        else if (type == \"gumbel\") {\\n            if (!is.null(ipars1)) \\n                testLmoments <- levd(x, location = ipars1[\"location\"], \\n                  scale = ipars1[\"scale\"], type = out$type, npy = npy)\\n            else testLmoments <- Inf\\n            if (!is.null(ipars2)) \\n                testMoments <- levd(x, location = ipars2[\"location\"], \\n                  scale = ipars2[\"scale\"], type = out$type, npy = npy)\\n            else testMoments <- Inf\\n        }\\n        else if (type == \"exponential\") {\\n            if (!is.null(ipars1)) \\n                testLmoments <- levd(x, threshold = threshold, \\n                  scale = ipars1[\"scale\"], shape = 0, type = out$type, \\n                  npy = npy)\\n            else testLmoments <- Inf\\n            if (!is.null(ipars2)) \\n                testMoments <- levd(x, threshold = threshold, \\n                  scale = ipars2[\"scale\"], shape = 0, type = out$type, \\n                  npy = npy)\\n            else testMoments <- Inf\\n        }\\n        if (is.finite(testLmoments) || is.finite(testMoments)) {\\n            if (testLmoments < testMoments) {\\n                if (is.null(initial$location) && !is.element(type, \\n                  c(\"gp\", \"exponential\", \"beta\", \"pareto\"))) \\n                  initial$location <- ipars1[\"location\"]\\n                if (is.null(initial$log.scale) && use.phi) \\n                  initial$log.scale <- log(ipars1[\"scale\"])\\n                else if (is.null(initial$scale)) \\n                  initial$scale <- ipars1[\"scale\"]\\n                if (!is.element(type, c(\"gumbel\", \"exponential\")) && \\n                  is.null(initial$shape)) \\n                  initial$shape <- ipars1[\"shape\"]\\n                if (verbose) \\n                  cat(\"Using Lmoments estimates as initial estimates.  Initial value =\", \\n                    testLmoments, \"\\\\n\")\\n            }\\n            else {\\n                if (is.null(initial$location) && !is.element(type, \\n                  c(\"gp\", \"exponential\", \"beta\", \"pareto\"))) \\n                  initial$location <- ipars2[\"location\"]\\n                if (is.null(initial$log.scale) && use.phi) \\n                  initial$log.scale <- log(ipars2[\"scale\"])\\n                else if (is.null(initial$scale)) \\n                  initial$scale <- ipars2[\"scale\"]\\n                if (!is.element(type, c(\"gumbel\", \"exponential\")) && \\n                  is.null(initial$shape)) \\n                  initial$shape <- ipars2[\"shape\"]\\n                if (verbose) \\n                  cat(\"Initial estimates found where necessary (not from Lmoments).  Initial value =\", \\n                    testMoments, \"\\\\n\")\\n            }\\n        }\\n        else {\\n            if (is.null(initial$location) && !is.element(type, \\n                c(\"gp\", \"exponential\", \"beta\", \"pareto\"))) \\n                initial$location <- 0\\n            if (is.null(initial$log.scale) && use.phi) \\n                initial$log.scale <- 0\\n            else if (is.null(initial$scale)) \\n                initial$scale <- 1\\n            if (!is.element(type, c(\"gumbel\", \"exponential\")) && \\n                is.null(initial$shape)) \\n                initial$shape <- 0.01\\n            warning(\"fevd: L-moments and Moment initial parameter estimates could not be calculated.  Using arbitrary starting values.\")\\n        }\\n        inout <- list(Lmoments = list(pars = ipars1, likelihood = testLmoments), \\n            MOM = list(pars = ipars2, likelihood = testMoments))\\n    }\\n    if (!is.null(initial$location)) {\\n        if (ncol(X.loc) != length(initial$location)) {\\n            if ((length(initial$location) == 1) && ncol(X.loc) > \\n                1) \\n                initial$location <- c(initial$location, rep(0, \\n                  ncol(X.loc) - 1))\\n            else stop(\"fevd: initial parameter estimates must have length 1 or number of parameters present.  Incorrect number for location parameter.\")\\n        }\\n        if (length(initial$location) == 1) \\n            names(initial$location) <- \"location\"\\n        else names(initial$location) <- paste(\"mu\", 0:(ncol(X.loc) - \\n            1), sep = \"\")\\n    }\\n    if (use.phi && (ncol(X.sc) != length(initial$log.scale))) {\\n        if ((length(initial$log.scale) == 1) && ncol(X.sc) > \\n            1) \\n            initial$log.scale <- c(initial$log.scale, rep(0, \\n                ncol(X.sc) - 1))\\n        else stop(\"fevd: initial parameter estimates must have length 1 or number of parameters present.  Incorrect number for log(scale) parameter.\")\\n    }\\n    else if (!use.phi && (ncol(X.sc) != length(initial$scale))) {\\n        if ((length(initial$scale) == 1) && ncol(X.sc) > 1) \\n            initial$scale <- c(initial$scale, rep(0, ncol(X.sc) - \\n                1))\\n        else stop(\"fevd: initial parameter estimates must have length 1 or number of parameters present.  Incorrect number for scale parameter.\")\\n    }\\n    if (use.phi) {\\n        if (length(initial$log.scale) == 1) \\n            names(initial$log.scale) <- \"log.scale\"\\n        else names(initial$log.scale) <- paste(\"phi\", 0:(ncol(X.sc) - \\n            1), sep = \"\")\\n    }\\n    else {\\n        if (length(initial$scale) == 1) \\n            names(initial$scale) <- \"scale\"\\n        else names(initial$scale) <- paste(\"sigma\", 0:(ncol(X.sc) - \\n            1), sep = \"\")\\n    }\\n    if (!is.element(type, c(\"gumbel\", \"exponential\"))) {\\n        if (ncol(X.sh) != length(initial$shape)) {\\n            if ((length(initial$shape) == 1) && ncol(X.sh) > \\n                1) \\n                initial$shape <- c(initial$shape, rep(0, ncol(X.sh) - \\n                  1))\\n            else stop(\"fevd: initial parameter estimates must have length 1 or number of parameters present.  Incorrect number for shape parameter.\")\\n        }\\n        if (length(initial$shape) == 1) \\n            names(initial$shape) <- \"shape\"\\n        else names(initial$shape) <- paste(\"xi\", 0:(ncol(X.sh) - \\n            1), sep = \"\")\\n    }\\n    if (is.element(method, c(\"mle\", \"gmle\"))) {\\n        if (use.phi) \\n            init.pars <- c(initial$location, initial$log.scale, \\n                initial$shape)\\n        else init.pars <- c(initial$location, initial$scale, \\n            initial$shape)\\n        if (type == \"exponential\" && const.scale) {\\n            if (method == \"gmle\") \\n                warning(\"Method MLE used.\")\\n            res <- list()\\n            excess.id <- x > threshold\\n            mle <- mean(x[excess.id] - threshold[excess.id])\\n            names(mle) <- \"scale\"\\n            res$par <- mle\\n            k <- sum(excess.id)\\n            res$n <- k\\n            res$value <- k * (log(mle) + 1)\\n        }\\n        else {\\n            if (!is.null(a <- optim.args)) {\\n                anam <- names(a)\\n                if (!is.element(\"gr\", anam)) {\\n                  if (method == \"mle\") \\n                    opt.gr <- grlevd\\n                  else opt.gr <- NULL\\n                }\\n                else opt.gr <- a$gr\\n                if (is.null(a$method) && use.phi) \\n                  opt.method <- ifelse(is.element(type, c(\"gev\", \\n                    \"gp\", \"pp\", \"gumbel\")), \"BFGS\", \"L-BFGS-B\")\\n                else opt.method <- a$method\\n                if (is.element(type, c(\"weibull\", \"beta\", \"frechet\", \\n                  \"pareto\"))) \\n                  opt.method <- \"L-BFGS-B\"\\n                if (is.element(opt.method, c(\"L-BFGS-B\", \"Brent\"))) {\\n                  if (is.null(a$lower)) {\\n                    if (!is.element(type, c(\"frechet\", \"pareto\"))) \\n                      opt.lower <- -Inf\\n                    else opt.lower <- c(rep(-Inf, length(init.pars) - \\n                      1), 0)\\n                  }\\n                  else {\\n                    if (is.element(type, c(\"frechet\", \"pareto\"))) \\n                      opt.lower <- c(a$lower[1:(length(init.pars) - \\n                        1)], 0)\\n                    else opt.lower <- a$lower\\n                  }\\n                  if (is.null(a$upper)) {\\n                    if (!is.element(type, c(\"weibull\", \"beta\"))) \\n                      opt.upper <- Inf\\n                    else opt.upper <- c(rep(Inf, length(init.pars) - \\n                      1), 0)\\n                  }\\n                  else {\\n                    if (is.element(type, c(\"weibull\", \"beta\"))) \\n                      opt.upper <- c(a$upper[1:(length(init.pars) - \\n                        1)], 0)\\n                    else opt.upper <- a$upper\\n                  }\\n                }\\n                else {\\n                  opt.lower <- -Inf\\n                  opt.upper <- Inf\\n                }\\n                if (is.null(a$control)) \\n                  opt.control <- list()\\n                else opt.control <- a$control\\n                anam <- names(a$control)\\n                if (!is.element(\"trace\", anam) && verbose) \\n                  opt.control$trace <- 6\\n                if (is.null(a$hessian)) \\n                  opt.hessian <- TRUE\\n                else opt.hessian <- a$hessian\\n            }\\n            else {\\n                if (method == \"mle\") \\n                  opt.gr <- grlevd\\n                else opt.gr <- NULL\\n                if (is.element(type, c(\"gev\", \"gp\", \"pp\", \"gumbel\"))) \\n                  opt.method <- \"BFGS\"\\n                else opt.method <- \"L-BFGS-B\"\\n                if (!is.element(type, c(\"frechet\", \"pareto\"))) \\n                  opt.lower <- -Inf\\n                else opt.lower <- c(rep(-Inf, length(init.pars) - \\n                  1), 0)\\n                if (!is.element(type, c(\"weibull\", \"beta\"))) \\n                  opt.upper <- Inf\\n                else opt.upper <- c(rep(Inf, length(init.pars) - \\n                  1), 0)\\n                if (verbose) \\n                  opt.control <- list(trace = 6)\\n                else opt.control <- list()\\n                opt.hessian <- TRUE\\n            }\\n            parnames <- names(init.pars)\\n            out$parnames <- parnames\\n            if (verbose && (method != \"lmoments\")) {\\n                cat(\"Initial estimates are:\\\\n\")\\n                print(init.pars)\\n                cat(\"Beginning estimation procedure.\\\\n\")\\n            }\\n            if (type == \"pp\" && find.init) {\\n                if (verbose) \\n                  cat(\"\\\\n\", \"First fitting a GP-Poisson model in order to try to get a good initial estimate as PP likelihoods can be very unstable.\\\\n\")\\n                look <- out\\n                look$type <- \"GP\"\\n                des2 <- designs\\n                des2$X.loc <- NULL\\n                if (!missing(data)) \\n                  resGP <- optim(init.pars[-(1:ncol(X.loc))], \\n                    oevd, gr = opt.gr, o = look, des = des2, \\n                    x = x, data = data, u = threshold, npy = npy, \\n                    phi = use.phi, method = opt.method, lower = opt.lower, \\n                    upper = opt.upper, control = opt.control, \\n                    hessian = opt.hessian)\\n                else resGP <- optim(init.pars[-(1:ncol(X.loc))], \\n                  oevd, gr = opt.gr, o = look, des = des2, x = x, \\n                  u = threshold, npy = npy, phi = use.phi, method = opt.method, \\n                  lower = opt.lower, upper = opt.upper, control = opt.control, \\n                  hessian = opt.hessian)\\n                tmpi <- resGP$par\\n                if (is.null(blocks)) {\\n                  lrate <- npy * mean(x > threshold)\\n                }\\n                else {\\n                  lrate <- sum(x > threshold)/(blocks$nBlocks * \\n                    mean(blocks$weights))\\n                }\\n                xi3 <- tmpi[(ncol(X.sc) + 1):length(tmpi)]\\n                if (!use.phi) \\n                  sigma3 <- exp(tmpi[1:ncol(X.sc)] + xi3 * log(lrate))\\n                else sigma3 <- tmpi[1:ncol(X.sc)] + xi3 * log(lrate)\\n                lp <- lrate^(-xi3) - 1\\n                if (all(is.finite(lp))) \\n                  mu3 <- mean(threshold) - (sigma3/xi3) * lp\\n                else mu3 <- mean(x)\\n                nloc <- ncol(X.loc)\\n                if (length(mu3) < nloc) \\n                  mu3 <- c(mu3, rep(0, nloc - length(mu3)))\\n                else mu3 <- mu3[1]\\n                if (!is.null(blocks)) {\\n                  blocks$location <- rowSums(matrix(mu3, blocks$nBlocks, \\n                    nloc) * blocks$designs$X.loc)\\n                  blocks$scale = rowSums(matrix(sigma3, blocks$nBlocks, \\n                    ncol(blocks$designs$X.sc)) * blocks$designs$X.sc)\\n                  blocks$shape = rowSums(matrix(xi3, blocks$nBlocks, \\n                    ncol(blocks$designs$X.sh)) * blocks$designs$X.sh)\\n                }\\n                if (all(is.finite(c(mu3, sigma3, xi3)))) {\\n                  testGPmle <- try(levd(x = x, threshold = threshold, \\n                    location = rowSums(matrix(mu3, n, nloc) * \\n                      X.loc), scale = rowSums(matrix(sigma3, \\n                      n, ncol(X.sc)) * X.sc), shape = rowSums(matrix(xi3, \\n                      n, ncol(X.sh)) * X.sh), type = \"PP\", npy = npy, \\n                    blocks = blocks), silent = TRUE)\\n                  if (any(class(testGPmle) == \"try-error\")) \\n                    testGPmle <- Inf\\n                }\\n                else testGPmle <- Inf\\n                if (!is.null(blocks)) \\n                  blocks$location <- blocks$scale <- blocks$shape <- NULL\\n                if (is.finite(testLmoments) || is.finite(testMoments) || \\n                  is.finite(testGPmle)) {\\n                  if ((testGPmle < testLmoments) && (testGPmle < \\n                    testMoments)) {\\n                    if (verbose) \\n                      cat(\"\\\\n\", \"Changing initial estimates to those based on GP MLEs.  They are: \\\\n\")\\n                    if (use.phi) \\n                      init.pars <- c(mu3, log(sigma3), xi3)\\n                    else init.pars <- c(mu3, sigma3, xi3)\\n                    names(init.pars) <- parnames\\n                    if (verbose) \\n                      print(init.pars)\\n                  }\\n                  else if (verbose) \\n                    cat(\"\\\\n\", \"Sticking with originally chosen initial estimates.\\\\n\")\\n                }\\n                inout$PoissonGP <- list(pars = c(mu3, sigma3, \\n                  xi3), likelihood = testGPmle)\\n            }\\n            if (method == \"mle\") {\\n                if (!missing(data)) {\\n                  res <- optim(init.pars, oevd, gr = opt.gr, \\n                    o = out, des = designs, x = x, data = data, \\n                    u = threshold, span = span/npy, npy = npy, \\n                    phi = use.phi, blocks = blocks, method = opt.method, \\n                    lower = opt.lower, upper = opt.upper, control = opt.control, \\n                    hessian = opt.hessian)\\n                }\\n                else {\\n                  res <- optim(init.pars, oevd, gr = opt.gr, \\n                    o = out, des = designs, x = x, u = threshold, \\n                    span = span/npy, npy = npy, phi = use.phi, \\n                    blocks = blocks, method = opt.method, lower = opt.lower, \\n                    upper = opt.upper, control = opt.control, \\n                    hessian = opt.hessian)\\n                }\\n            }\\n            else if (method == \"gmle\") {\\n                if (!missing(data)) {\\n                  res <- optim(init.pars, oevdgen, gr = opt.gr, \\n                    o = out, des = designs, x = x, data = data, \\n                    u = threshold, span = span/npy, npy = npy, \\n                    phi = use.phi, blocks = blocks, priorFun = priorFun, \\n                    priorParams = priorParams, method = opt.method, \\n                    lower = opt.lower, upper = opt.upper, control = opt.control, \\n                    hessian = opt.hessian)\\n                }\\n                else {\\n                  res <- optim(init.pars, oevdgen, gr = opt.gr, \\n                    o = out, des = designs, x = x, u = threshold, \\n                    span = span/npy, npy = npy, phi = use.phi, \\n                    blocks = blocks, priorFun = priorFun, priorParams = priorParams, \\n                    method = opt.method, lower = opt.lower, upper = opt.upper, \\n                    control = opt.control, hessian = opt.hessian)\\n                }\\n            }\\n        }\\n        if (is.element(\"shape\", names(res$par))) {\\n            if (is.element(type, c(\"frechet\", \"pareto\"))) {\\n                res$par[\"shape\"] <- abs(res$par[\"shape\"])\\n                if (res$par[\"shape\"] == 0) {\\n                  warning(\"fevd: shape parameter estimated to be zero.  Re-setting to be 1e16.\")\\n                  res$par[\"shape\"] <- 1e+16\\n                }\\n            }\\n            else {\\n                if (is.element(type, c(\"weibull\", \"beta\"))) \\n                  res$par[\"shape\"] <- -abs(res$par[\"shape\"])\\n                if (res$par[\"shape\"] == 0) {\\n                  warning(\"fevd: shape parameter estimated to be zero.  Re-setting to be -1e16.\")\\n                  res$par[\"shape\"] <- -1e+16\\n                }\\n            }\\n        }\\n        res$num.pars <- list(location = ncol(designs$X.loc), \\n            scale = ncol(designs$X.sc), shape = ncol(designs$X.sh))\\n        out$results <- res\\n    }\\n    else if (method == \"bayesian\") {\\n        if (is.element(type, c(\"gev\", \"gumbel\", \"weibull\", \"frechet\", \\n            \"pp\"))) {\\n            nloc <- ncol(X.loc)\\n            loc.names <- names(initial$location)\\n        }\\n        else {\\n            nloc <- 0\\n            loc.names <- NULL\\n        }\\n        nsc <- ncol(X.sc)\\n        if (use.phi && is.null(initial$log.scale)) {\\n            initial$log.scale <- log(initial$scale)\\n            if (nsc == 1) \\n                names(initial$log.scale) <- \"log.scale\"\\n            else names(initial$log.scale) <- paste(\"phi\", 0:(nsc - \\n                1), sep = \"\")\\n        }\\n        sc.names <- names(initial$log.scale)\\n        if (!is.element(type, c(\"gumbel\", \"exponential\"))) {\\n            nsh <- ncol(X.sh)\\n            sh.names <- names(initial$shape)\\n        }\\n        else {\\n            nsh <- 0\\n            sh.names <- NULL\\n        }\\n        np <- nloc + nsc + nsh\\n        find.priorParams <- FALSE\\n        if (is.null(priorFun) && is.null(priorParams)) \\n            find.priorParams <- TRUE\\n        else if (is.null(priorFun) && (is.null(priorParams$m) || \\n            is.null(priorParams$v))) \\n            find.priorParams <- TRUE\\n        else if (!is.null(priorFun)) {\\n            if (priorFun == \"fevdPriorDefault\") {\\n                if (is.null(priorParams)) \\n                  find.priorParams <- TRUE\\n                else if (is.null(priorParams$m) || is.null(priorParams$v)) \\n                  find.priorParams <- TRUE\\n            }\\n        }\\n        if (is.null(priorFun) || find.priorParams) {\\n            if (is.null(priorFun)) \\n                priorFun <- \"fevdPriorDefault\"\\n            if (find.priorParams) {\\n                xtemp <- x\\n                class(xtemp) <- \"mle\"\\n                if (verbose) \\n                  cat(\"\\\\n\", \"Finding MLE to obtain prior means and variances.\\\\n\")\\n                if (missing(data)) {\\n                  if (missing(span)) \\n                    hold <- initializer(xtemp, u = threshold, \\n                      use.phi = use.phi, type = out$type, time.units = time.units, \\n                      period.basis = period.basis, blocks = blocks)\\n                  else hold <- initializer(xtemp, u = threshold, \\n                    use.phi = use.phi, type = out$type, span = span, \\n                    time.units = time.units, period.basis = period.basis, \\n                    blocks = blocks)\\n                }\\n                else {\\n                  if (missing(span)) \\n                    hold <- initializer(xtemp, data = data, u = threshold, \\n                      u.fun = threshold.fun, loc.fun = location.fun, \\n                      sc.fun = scale.fun, sh.fun = shape.fun, \\n                      use.phi = use.phi, type = out$type, time.units = time.units, \\n                      period.basis = period.basis, blocks = blocks)\\n                  else hold <- initializer(xtemp, data = data, \\n                    u = threshold, u.fun = threshold.fun, loc.fun = location.fun, \\n                    sc.fun = scale.fun, sh.fun = shape.fun, use.phi = use.phi, \\n                    type = out$type, span = span, time.units = time.units, \\n                    period.basis = period.basis, blocks = blocks)\\n                }\\n                if (is.null(priorParams)) \\n                  priorParams <- list(m = hold[1:np], v = rep(10, \\n                    np))\\n                else if (is.null(priorParams$m)) \\n                  priorParams$m <- hold[1:np]\\n                else if (is.null(priorParams$v)) \\n                  priorParams$v <- rep(10, np)\\n            }\\n        }\\n        out$priorFun <- priorFun\\n        out$priorParams <- priorParams\\n        if (is.null(proposalFun)) {\\n            proposalFun <- \"fevdProposalDefault\"\\n            if (is.null(proposalParams)) \\n                proposalParams <- list(sd = rep(0.1, np))\\n        }\\n        out$proposalFun <- proposalFun\\n        out$proposalParams <- proposalParams\\n        chain.info <- matrix(NA, iter, np + 2)\\n        colnames(chain.info) <- c(loc.names, sc.names, sh.names, \\n            \"loglik\", \"prior\")\\n        chain.info[2:iter, 1:np] <- 0\\n        res <- matrix(NA, iter, np + 1)\\n        res[, np + 1] <- 0\\n        colnames(res) <- c(loc.names, sc.names, sh.names, \"new\")\\n        if (nloc > 0) \\n            res[1, 1:nloc] <- initial$location\\n        if (use.phi) \\n            res[1, (nloc + 1):(nloc + nsc)] <- initial$log.scale\\n        else res[1, (nloc + 1):(nloc + nsc)] <- initial$scale\\n        if (type != \"Gumbel\") \\n            res[1, (nloc + nsc + 1):np] <- initial$shape\\n        theta.i <- res[1, 1:np]\\n        if (verbose) {\\n            cat(\"\\\\n\", \"Finding log-Likelihood of initial parameter values:\\\\n\")\\n            print(theta.i)\\n        }\\n        if (!missing(data)) \\n            ll.i <- -oevd(p = res[1, ], o = out, des = designs, \\n                x = x, data = data, u = threshold, span = span, \\n                npy = npy, phi = use.phi, blocks = blocks)\\n        else ll.i <- -oevd(p = res[1, ], o = out, des = designs, \\n            x = x, u = threshold, span = span, npy = npy, phi = use.phi, \\n            blocks = blocks)\\n        if (verbose) \\n            cat(\"\\\\n\", \"Finding prior df value of initial parameter values.\\\\n\")\\n        p.i <- do.call(priorFun, c(list(theta = theta.i), priorParams))\\n        chain.info[1, np + 1] <- ll.i\\n        chain.info[1, np + 2] <- p.i\\n        if (verbose) \\n            cat(\"\\\\n\", \"Beginning the MCMC iterations (\", iter, \\n                \" total iterations)\\\\n\")\\n        for (i in 2:iter) {\\n            if (verbose && i <= 10) \\n                cat(i, \" \")\\n            if (verbose && i%%100 == 0) \\n                cat(i, \" \")\\n            ord <- sample(1:np, np)\\n            theta.star <- theta.i\\n            acc <- 0\\n            for (j in ord) {\\n                par.star <- do.call(proposalFun, c(list(p = theta.i, \\n                  ind = j), proposalParams))\\n                theta.star[j] <- par.star[j]\\n                if (!missing(data)) \\n                  ll.star <- -oevd(p = theta.star, o = out, des = designs, \\n                    x = x, data = data, u = threshold, span = span, \\n                    npy = npy, phi = use.phi, blocks = blocks)\\n                else ll.star <- -oevd(p = theta.star, o = out, \\n                  des = designs, x = x, u = threshold, span = span, \\n                  npy = npy, phi = use.phi, blocks = blocks)\\n                prior.star <- do.call(priorFun, c(list(theta = theta.star), \\n                  priorParams))\\n                look <- will.accept(ll.i = ll.i, prior.i = p.i, \\n                  ll.star = ll.star, prior.star = prior.star, \\n                  log = TRUE)\\n                if (look$accept) {\\n                  p.i <- prior.star\\n                  ll.i <- ll.star\\n                  theta.i <- theta.star\\n                  acc <- acc + 1\\n                  chain.info[i, j] <- 1\\n                }\\n            }\\n            res[i, ] <- c(theta.i, acc)\\n            chain.info[i, (np + 1):(np + 2)] <- c(ll.i, p.i)\\n        }\\n        if (verbose) \\n            cat(\"\\\\n\", \"Finished MCMC iterations.\\\\n\")\\n        out$results <- res\\n        out$chain.info <- chain.info\\n    }\\n    else stop(\"fevd: invalid method argument.\")\\n    out$initial.results <- inout\\n    if (verbose) \\n        print(Sys.time() - begin.tiid)\\n    if (method == \"GMLE\") \\n        cl <- \"mle\"\\n    else cl <- tolower(method)\\n    class(out) <- \"fevd\"\\n    return(out)\\n})(x = structure(c(22.2, 25.5, 21.5, 22.5, 23.7, 22.5, 21.7, \\n29.7, 24.2, 23.8, 28.1, 23.4, 23.7, 25.6, 23.2, 24.9, 22.8, 24.6, \\n22.3, 25.5, 22.6, 24, 20.8, 23.5, 24.4, 24.1, 25.1, 19.4, 22.8, \\n24.2, 25, 25.3), .Dim = 32L), type = \"GEV\", method = \"GMLE\"), \\n    data.name = c(\"structure(c(22.2, 25.5, 21.5, 22.5, 23.7, 22.5, 21.7, 29.7, 24.2, \", \\n    \"23.8, 28.1, 23.4, 23.7, 25.6, 23.2, 24.9, 22.8, 24.6, 22.3, 25.5, \", \\n    \"22.6, 24, 20.8, 23.5, 24.4, 24.1, 25.1, 19.4, 22.8, 24.2, 25, \", \\n    \"25.3), .Dim = 32L)\", \"\"), weights = 1, missing.values = structure(c(FALSE, \\n    FALSE, FALSE, FALSE, FALSE, FALSE, FALSE, FALSE, FALSE, FALSE, \\n    FALSE, FALSE, FALSE, FALSE, FALSE, FALSE, FALSE, FALSE, FALSE, \\n    FALSE, FALSE, FALSE, FALSE, FALSE, FALSE, FALSE, FALSE, FALSE, \\n    FALSE, FALSE, FALSE, FALSE), .Dim = 32L), in.data = FALSE, \\n    x = structure(c(22.2, 25.5, 21.5, 22.5, 23.7, 22.5, 21.7, \\n    29.7, 24.2, 23.8, 28.1, 23.4, 23.7, 25.6, 23.2, 24.9, 22.8, \\n    24.6, 22.3, 25.5, 22.6, 24, 20.8, 23.5, 24.4, 24.1, 25.1, \\n    19.4, 22.8, 24.2, 25, 25.3), .Dim = 32L), priorFun = \"shapePriorBeta\", \\n    priorParams = list(q = 6, p = 9), method = \"GMLE\", type = \"GEV\", \\n    period.basis = \"year\", par.models = list(threshold = ~1, \\n        location = ~1, scale = ~1, log.scale = FALSE, shape = ~1, \\n        term.names = list(threshold = character(0), location = character(0), \\n            scale = character(0), shape = character(0))), const.loc = TRUE, \\n    const.scale = TRUE, const.shape = TRUE, n = 32L, na.action = \"na.fail\", \\n    parnames = c(\"location\", \"scale\", \"shape\"), results = list(\\n        par = c(location = 23.0639415199156, scale = 1.75769128742863, \\n        shape = -0.162881636771479), value = 10000000000000066, \\n        counts = c(\"function\" = 1L, gradient = 1L), convergence = 0L, \\n        message = NULL, hessian = structure(c(0, 0, 0, 0, 0, \\n        0, 0, 0, 0), .Dim = c(3L, 3L), .Dimnames = list(c(\"location\", \\n        \"scale\", \"shape\"), c(\"location\", \"scale\", \"shape\"))), \\n        num.pars = list(location = 1L, scale = 1L, shape = 1L)), \\n    initial.results = list(Lmoments = list(pars = c(location = 23.0639415199156, \\n    scale = 1.75769128742863, shape = -0.162881636771479), likelihood = 66.2886786031611), \\n        MOM = list(pars = c(location = 22.9433834602779, scale = 0.430597962257221, \\n        shape = 1e-08), likelihood = 4001.38677846343))), class = \"fevd\")'"
      ]
     },
     "execution_count": 41,
     "metadata": {},
     "output_type": "execute_result"
    }
   ],
   "source": [
    "result.r_repr()"
   ]
  },
  {
   "cell_type": "code",
   "execution_count": 43,
   "metadata": {},
   "outputs": [
    {
     "name": "stdout",
     "output_type": "stream",
     "text": [
      " [1] \"call\"            \"data.name\"       \"weights\"         \"missing.values\" \n",
      "\n",
      " [5] \"in.data\"         \"x\"               \"priorFun\"        \"priorParams\"    \n",
      "\n",
      " [9] \"method\"          \"type\"            \"period.basis\"    \"par.models\"     \n",
      "\n",
      "[13] \"const.loc\"       \"const.scale\"     \"const.shape\"     \"n\"              \n",
      "\n",
      "[17] \"na.action\"       \"parnames\"        \"results\"         \"initial.results\"\n",
      "\n"
     ]
    }
   ],
   "source": [
    "print(result.names)"
   ]
  },
  {
   "cell_type": "code",
   "execution_count": 45,
   "metadata": {},
   "outputs": [],
   "source": [
    "res = result.rx(\"results\")"
   ]
  },
  {
   "cell_type": "code",
   "execution_count": 50,
   "metadata": {},
   "outputs": [
    {
     "name": "stdout",
     "output_type": "stream",
     "text": [
      "$par\n",
      "\n",
      "  location      scale      shape \n",
      "\n",
      "23.0639415  1.7576913 -0.1628816 \n",
      "\n",
      "\n",
      "\n",
      "$value\n",
      "\n",
      "[1] 1e+16\n",
      "\n",
      "\n",
      "\n",
      "$counts\n",
      "\n",
      "function gradient \n",
      "\n",
      "       1        1 \n",
      "\n",
      "\n",
      "\n",
      "$convergence\n",
      "\n",
      "[1] 0\n",
      "\n",
      "\n",
      "\n",
      "$message\n",
      "\n",
      "NULL\n",
      "\n",
      "\n",
      "\n",
      "$hessian\n",
      "\n",
      "         location scale shape\n",
      "\n",
      "location        0     0     0\n",
      "\n",
      "scale           0     0     0\n",
      "\n",
      "shape           0     0     0\n",
      "\n",
      "\n",
      "\n",
      "$num.pars\n",
      "\n",
      "$num.pars$location\n",
      "\n",
      "[1] 1\n",
      "\n",
      "\n",
      "\n",
      "$num.pars$scale\n",
      "\n",
      "[1] 1\n",
      "\n",
      "\n",
      "\n",
      "$num.pars$shape\n",
      "\n",
      "[1] 1\n",
      "\n",
      "\n",
      "\n",
      "\n",
      "\n"
     ]
    }
   ],
   "source": [
    "print(res[0])"
   ]
  },
  {
   "cell_type": "code",
   "execution_count": 54,
   "metadata": {},
   "outputs": [],
   "source": [
    "loc,scale,shape = res[0].rx('par')[0]"
   ]
  },
  {
   "cell_type": "code",
   "execution_count": 55,
   "metadata": {},
   "outputs": [
    {
     "data": {
      "text/plain": [
       "23.063941519915588"
      ]
     },
     "execution_count": 55,
     "metadata": {},
     "output_type": "execute_result"
    }
   ],
   "source": [
    "loc"
   ]
  },
  {
   "cell_type": "code",
   "execution_count": 56,
   "metadata": {},
   "outputs": [
    {
     "data": {
      "text/plain": [
       "1.7576912874286317"
      ]
     },
     "execution_count": 56,
     "metadata": {},
     "output_type": "execute_result"
    }
   ],
   "source": [
    "scale"
   ]
  },
  {
   "cell_type": "code",
   "execution_count": 57,
   "metadata": {},
   "outputs": [
    {
     "data": {
      "text/plain": [
       "-0.1628816367714792"
      ]
     },
     "execution_count": 57,
     "metadata": {},
     "output_type": "execute_result"
    }
   ],
   "source": [
    "shape"
   ]
  },
  {
   "cell_type": "markdown",
   "metadata": {},
   "source": [
    "### Función mágica para R"
   ]
  },
  {
   "cell_type": "code",
   "execution_count": 59,
   "metadata": {},
   "outputs": [],
   "source": [
    "%load_ext rpy2.ipython"
   ]
  },
  {
   "cell_type": "code",
   "execution_count": 61,
   "metadata": {},
   "outputs": [
    {
     "name": "stdout",
     "output_type": "stream",
     "text": [
      "Help on function R in module rpy2.ipython.rmagic:\n",
      "\n",
      "R(self, line, cell=None, local_ns=None)\n",
      "    ::\n",
      "    \n",
      "      %R [-i INPUT] [-o OUTPUT] [-n] [-w WIDTH] [-h HEIGHT] [-p POINTSIZE]\n",
      "             [-b BG] [--noisolation] [-u {px,in,cm,mm}] [-r RES] [-c CONVERTER]\n",
      "             [code [code ...]]\n",
      "    \n",
      "    Execute code in R, optionally returning results to the Python runtime.\n",
      "    \n",
      "    In line mode, this will evaluate an expression and convert the returned\n",
      "    value to a Python object.  The return value is determined by rpy2's\n",
      "    behaviour of returning the result of evaluating the final expression.\n",
      "    \n",
      "    Multiple R expressions can be executed by joining them with semicolons::\n",
      "    \n",
      "        In [9]: %R X=c(1,4,5,7); sd(X); mean(X)\n",
      "        Out[9]: array([ 4.25])\n",
      "    \n",
      "    In cell mode, this will run a block of R code. The resulting value\n",
      "    is printed if it would be printed when evaluating the same code\n",
      "    within a standard R REPL.\n",
      "    \n",
      "    Nothing is returned to python by default in cell mode::\n",
      "    \n",
      "        In [10]: %%R\n",
      "           ....: Y = c(2,4,3,9)\n",
      "           ....: summary(lm(Y~X))\n",
      "    \n",
      "        Call:\n",
      "        lm(formula = Y ~ X)\n",
      "    \n",
      "        Residuals:\n",
      "            1     2     3     4\n",
      "         0.88 -0.24 -2.28  1.64\n",
      "    \n",
      "        Coefficients:\n",
      "                    Estimate Std. Error t value Pr(>|t|)\n",
      "        (Intercept)   0.0800     2.3000   0.035    0.975\n",
      "        X             1.0400     0.4822   2.157    0.164\n",
      "    \n",
      "        Residual standard error: 2.088 on 2 degrees of freedom\n",
      "        Multiple R-squared: 0.6993,Adjusted R-squared: 0.549\n",
      "        F-statistic: 4.651 on 1 and 2 DF,  p-value: 0.1638\n",
      "    \n",
      "    In the notebook, plots are published as the output of the cell::\n",
      "    \n",
      "        %R plot(X, Y)\n",
      "    \n",
      "    will create a scatter plot of X bs Y.\n",
      "    \n",
      "    If cell is not None and line has some R code, it is prepended to\n",
      "    the R code in cell.\n",
      "    \n",
      "    Objects can be passed back and forth between rpy2 and python via the -i -o flags in line::\n",
      "    \n",
      "        In [14]: Z = np.array([1,4,5,10])\n",
      "    \n",
      "        In [15]: %R -i Z mean(Z)\n",
      "        Out[15]: array([ 5.])\n",
      "    \n",
      "        In [16]: %R -o W W=Z*mean(Z)\n",
      "        Out[16]: array([  5.,  20.,  25.,  50.])\n",
      "    \n",
      "        In [17]: W\n",
      "        Out[17]: array([  5.,  20.,  25.,  50.])\n",
      "    \n",
      "    The return value is determined by these rules:\n",
      "    \n",
      "    * If the cell is not None (i.e., has contents), the magic returns None.\n",
      "    \n",
      "    * If the final line results in a NULL value when evaluated\n",
      "      by rpy2, then None is returned.\n",
      "    \n",
      "    * No attempt is made to convert the final value to a structured array.\n",
      "      Use %Rget to push a structured array.\n",
      "    \n",
      "    * If the -n flag is present, there is no return value.\n",
      "    \n",
      "    * A trailing ';' will also result in no return value as the last\n",
      "      value in the line is an empty string.\n",
      "    \n",
      "    optional arguments:\n",
      "      -i INPUT, --input INPUT\n",
      "                            Names of input variable from shell.user_ns to be\n",
      "                            assigned to R variables of the same names after using\n",
      "                            the Converter self.converter. Multiple names can be\n",
      "                            passed separated only by commas with no whitespace.\n",
      "      -o OUTPUT, --output OUTPUT\n",
      "                            Names of variables to be pushed from rpy2 to\n",
      "                            shell.user_ns after executing cell body (rpy2's\n",
      "                            internal facilities will apply ri2ro as appropriate).\n",
      "                            Multiple names can be passed separated only by commas\n",
      "                            with no whitespace.\n",
      "      -n, --noreturn        Force the magic to not return anything.\n",
      "    \n",
      "    Plot:\n",
      "      Arguments to plotting device\n",
      "    \n",
      "      -w WIDTH, --width WIDTH\n",
      "                            Width of plotting device in R.\n",
      "      -h HEIGHT, --height HEIGHT\n",
      "                            Height of plotting device in R.\n",
      "      -p POINTSIZE, --pointsize POINTSIZE\n",
      "                            Pointsize of plotting device in R.\n",
      "      -b BG, --bg BG        Background of plotting device in R.\n",
      "    \n",
      "    SVG:\n",
      "      SVG specific arguments\n",
      "    \n",
      "      --noisolation         Disable SVG isolation in the Notebook. By default,\n",
      "                            SVGs are isolated to avoid namespace collisions\n",
      "                            between figures. Disabling SVG isolation allows to\n",
      "                            reference previous figures or share CSS rules across a\n",
      "                            set of SVGs.\n",
      "    \n",
      "    PNG:\n",
      "      PNG specific arguments\n",
      "    \n",
      "      -u <{px,in,cm,mm}>, --units <{px,in,cm,mm}>\n",
      "                            Units of png plotting device sent as an argument to\n",
      "                            *png* in R. One of [\"px\", \"in\", \"cm\", \"mm\"].\n",
      "      -r RES, --res RES     Resolution of png plotting device sent as an argument\n",
      "                            to *png* in R. Defaults to 72 if *units* is one of\n",
      "                            [\"in\", \"cm\", \"mm\"].\n",
      "      -c CONVERTER, --converter CONVERTER\n",
      "                            Name of local converter to use. A converter contains\n",
      "                            the rules to convert objects back and forth between\n",
      "                            Python and R. If not specified/None, the defaut\n",
      "                            converter for the magic's module is used (that is\n",
      "                            rpy2's default converter + numpy converter + pandas\n",
      "                            converter if all three are available).\n",
      "      code\n",
      "\n"
     ]
    }
   ],
   "source": [
    "help(rpy2.ipython.rmagic.RMagics.R)"
   ]
  },
  {
   "cell_type": "code",
   "execution_count": 78,
   "metadata": {},
   "outputs": [
    {
     "data": {
      "text/plain": [
       "array([4.25])"
      ]
     },
     "execution_count": 78,
     "metadata": {},
     "output_type": "execute_result"
    }
   ],
   "source": [
    "%R X=c(1,4,5,7); sd(X); mean(X)"
   ]
  },
  {
   "cell_type": "code",
   "execution_count": 79,
   "metadata": {},
   "outputs": [],
   "source": [
    "%%R\n",
    "Y = c(2,4,3,9)\n",
    "lm = lm(Y~X)\n",
    "summary(lm)"
   ]
  },
  {
   "cell_type": "code",
   "execution_count": 73,
   "metadata": {},
   "outputs": [
    {
     "data": {
      "image/png": "[encoded data removed]"
     },
     "metadata": {},
     "output_type": "display_data"
    }
   ],
   "source": [
    "%R -i result plot.fevd(result)"
   ]
  },
  {
   "cell_type": "code",
   "execution_count": 74,
   "metadata": {},
   "outputs": [
    {
     "data": {
      "image/png": "[encoded data removed]"
     },
     "metadata": {},
     "output_type": "display_data"
    },
    {
     "data": {
      "text/html": [
       "\n",
       "    <span>ListVector with 6 elements.</span>\n",
       "    <table>\n",
       "      <tbody>\n",
       "      \n",
       "      <tr>\n",
       "      <th>\n",
       "        breaks\n",
       "      </th>\n",
       "      <td>\n",
       "        \n",
       "    <span>FloatVector with 9 elements.</span>\n",
       "    <table>\n",
       "      <tbody>\n",
       "      <tr>\n",
       "      \n",
       "      <td>\n",
       "        1.000000\n",
       "      </td>\n",
       "      \n",
       "      <td>\n",
       "        1.500000\n",
       "      </td>\n",
       "      \n",
       "      <td>\n",
       "        2.000000\n",
       "      </td>\n",
       "      \n",
       "      <td>\n",
       "        2.500000\n",
       "      </td>\n",
       "      \n",
       "      <td>\n",
       "        ...\n",
       "      </td>\n",
       "      \n",
       "      <td>\n",
       "        3.500000\n",
       "      </td>\n",
       "      \n",
       "      <td>\n",
       "        4.000000\n",
       "      </td>\n",
       "      \n",
       "      <td>\n",
       "        4.500000\n",
       "      </td>\n",
       "      \n",
       "      <td>\n",
       "        5.000000\n",
       "      </td>\n",
       "      \n",
       "      </tr>\n",
       "      </tbody>\n",
       "    </table>\n",
       "    \n",
       "      </td>\n",
       "      </tr>\n",
       "      \n",
       "      <tr>\n",
       "      <th>\n",
       "        counts\n",
       "      </th>\n",
       "      <td>\n",
       "        \n",
       "    <span>IntVector with 8 elements.</span>\n",
       "    <table>\n",
       "      <tbody>\n",
       "      <tr>\n",
       "      \n",
       "      <td>\n",
       "        6\n",
       "      </td>\n",
       "      \n",
       "      <td>\n",
       "        5\n",
       "      </td>\n",
       "      \n",
       "      <td>\n",
       "        5\n",
       "      </td>\n",
       "      \n",
       "      <td>\n",
       "        5\n",
       "      </td>\n",
       "      \n",
       "      <td>\n",
       "        5\n",
       "      </td>\n",
       "      \n",
       "      <td>\n",
       "        5\n",
       "      </td>\n",
       "      \n",
       "      <td>\n",
       "        5\n",
       "      </td>\n",
       "      \n",
       "      <td>\n",
       "        4\n",
       "      </td>\n",
       "      \n",
       "      </tr>\n",
       "      </tbody>\n",
       "    </table>\n",
       "    \n",
       "      </td>\n",
       "      </tr>\n",
       "      \n",
       "      <tr>\n",
       "      <th>\n",
       "        density\n",
       "      </th>\n",
       "      <td>\n",
       "        \n",
       "    <span>FloatVector with 8 elements.</span>\n",
       "    <table>\n",
       "      <tbody>\n",
       "      <tr>\n",
       "      \n",
       "      <td>\n",
       "        0.300000\n",
       "      </td>\n",
       "      \n",
       "      <td>\n",
       "        0.250000\n",
       "      </td>\n",
       "      \n",
       "      <td>\n",
       "        0.250000\n",
       "      </td>\n",
       "      \n",
       "      <td>\n",
       "        0.250000\n",
       "      </td>\n",
       "      \n",
       "      <td>\n",
       "        0.250000\n",
       "      </td>\n",
       "      \n",
       "      <td>\n",
       "        0.250000\n",
       "      </td>\n",
       "      \n",
       "      <td>\n",
       "        0.250000\n",
       "      </td>\n",
       "      \n",
       "      <td>\n",
       "        0.200000\n",
       "      </td>\n",
       "      \n",
       "      </tr>\n",
       "      </tbody>\n",
       "    </table>\n",
       "    \n",
       "      </td>\n",
       "      </tr>\n",
       "      \n",
       "      <tr>\n",
       "      <th>\n",
       "        mids\n",
       "      </th>\n",
       "      <td>\n",
       "        \n",
       "    <span>FloatVector with 8 elements.</span>\n",
       "    <table>\n",
       "      <tbody>\n",
       "      <tr>\n",
       "      \n",
       "      <td>\n",
       "        1.250000\n",
       "      </td>\n",
       "      \n",
       "      <td>\n",
       "        1.750000\n",
       "      </td>\n",
       "      \n",
       "      <td>\n",
       "        2.250000\n",
       "      </td>\n",
       "      \n",
       "      <td>\n",
       "        2.750000\n",
       "      </td>\n",
       "      \n",
       "      <td>\n",
       "        3.250000\n",
       "      </td>\n",
       "      \n",
       "      <td>\n",
       "        3.750000\n",
       "      </td>\n",
       "      \n",
       "      <td>\n",
       "        4.250000\n",
       "      </td>\n",
       "      \n",
       "      <td>\n",
       "        4.750000\n",
       "      </td>\n",
       "      \n",
       "      </tr>\n",
       "      </tbody>\n",
       "    </table>\n",
       "    \n",
       "      </td>\n",
       "      </tr>\n",
       "      \n",
       "      <tr>\n",
       "      <th>\n",
       "        xname\n",
       "      </th>\n",
       "      <td>\n",
       "        \n",
       "    <span>StrVector with 1 elements.</span>\n",
       "    <table>\n",
       "      <tbody>\n",
       "      <tr>\n",
       "      \n",
       "      <td>\n",
       "        'var_from_python'\n",
       "      </td>\n",
       "      \n",
       "      </tr>\n",
       "      </tbody>\n",
       "    </table>\n",
       "    \n",
       "      </td>\n",
       "      </tr>\n",
       "      \n",
       "      <tr>\n",
       "      <th>\n",
       "        equidist\n",
       "      </th>\n",
       "      <td>\n",
       "        \n",
       "    <span>BoolVector with 1 elements.</span>\n",
       "    <table>\n",
       "      <tbody>\n",
       "      <tr>\n",
       "      \n",
       "      <td>\n",
       "               1\n",
       "      </td>\n",
       "      \n",
       "      </tr>\n",
       "      </tbody>\n",
       "    </table>\n",
       "    \n",
       "      </td>\n",
       "      </tr>\n",
       "      \n",
       "      </tbody>\n",
       "    </table>\n",
       "    "
      ],
      "text/plain": [
       "R object with classes: ('histogram',) mapped to:\n",
       "<ListVector - Python:0x00000240C47D2B88 / R:0x00000240BBE7C258>\n",
       "[Float..., IntVe..., Float..., Float..., StrVe..., BoolV...]\n",
       "  breaks: <class 'rpy2.robjects.vectors.FloatVector'>\n",
       "  R object with classes: ('numeric',) mapped to:\n",
       "<FloatVector - Python:0x00000240C4699388 / R:0x00000240BCB7A1E0>\n",
       "[1.000000, 1.500000, 2.000000, 2.500000, ..., 3.500000, 4.000000, 4.500000, 5.000000]\n",
       "  counts: <class 'rpy2.robjects.vectors.IntVector'>\n",
       "  R object with classes: ('integer',) mapped to:\n",
       "<IntVector - Python:0x00000240C46A0088 / R:0x00000240BCB57CC0>\n",
       "[6, 5, 5, 5, 5, 5, 5, 4]\n",
       "  density: <class 'rpy2.robjects.vectors.FloatVector'>\n",
       "  R object with classes: ('numeric',) mapped to:\n",
       "<FloatVector - Python:0x00000240BE00FD48 / R:0x00000240BBE7C728>\n",
       "[0.300000, 0.250000, 0.250000, 0.250000, 0.250000, 0.250000, 0.250000, 0.200000]\n",
       "  mids: <class 'rpy2.robjects.vectors.FloatVector'>\n",
       "  R object with classes: ('numeric',) mapped to:\n",
       "<FloatVector - Python:0x00000240C4A476C8 / R:0x00000240BBE7C488>\n",
       "[1.250000, 1.750000, 2.250000, 2.750000, 3.250000, 3.750000, 4.250000, 4.750000]\n",
       "  xname: <class 'rpy2.robjects.vectors.StrVector'>\n",
       "  R object with classes: ('character',) mapped to:\n",
       "<StrVector - Python:0x00000240C4A4A148 / R:0x00000240BB98E1E8>\n",
       "['var_from_python']\n",
       "  equidist: <class 'rpy2.robjects.vectors.BoolVector'>\n",
       "  R object with classes: ('logical',) mapped to:\n",
       "<BoolVector - Python:0x00000240C4A4AF48 / R:0x00000240B2FC3E10>\n",
       "[       1]"
      ]
     },
     "execution_count": 74,
     "metadata": {},
     "output_type": "execute_result"
    }
   ],
   "source": [
    "%R -i var_from_python hist(var_from_python)"
   ]
  },
  {
   "cell_type": "code",
   "execution_count": null,
   "metadata": {},
   "outputs": [],
   "source": [
    "ro.globalenv['result'] = result\n",
    "ro.r('plot.fevd(res)') #Puede dar error y generar un objeto NULL"
   ]
  },
  {
   "cell_type": "markdown",
   "metadata": {},
   "source": [
    "# Un ejemplo complejo de R, Python y Rmagic"
   ]
  },
  {
   "cell_type": "code",
   "execution_count": 85,
   "metadata": {},
   "outputs": [],
   "source": [
    "metodos = ['MLE','GMLE']\n",
    "tipos = ['GEV','Gumbel']"
   ]
  },
  {
   "cell_type": "code",
   "execution_count": 86,
   "metadata": {},
   "outputs": [
    {
     "name": "stdout",
     "output_type": "stream",
     "text": [
      "Tipo de Ajuste:  GEV\n",
      "Tipo de Método del Ajuste:  MLE\n",
      "$par\n",
      "\n",
      "  location      scale      shape \n",
      "\n",
      "23.0517078  1.8085853 -0.1497984 \n",
      "\n",
      "\n",
      "\n",
      "$value\n",
      "\n",
      "[1] 66.22729\n",
      "\n",
      "\n",
      "\n",
      "$counts\n",
      "\n",
      "function gradient \n",
      "\n",
      "      28        6 \n",
      "\n",
      "\n",
      "\n",
      "$convergence\n",
      "\n",
      "[1] 0\n",
      "\n",
      "\n",
      "\n",
      "$message\n",
      "\n",
      "NULL\n",
      "\n",
      "\n",
      "\n",
      "$hessian\n",
      "\n",
      "           location      scale     shape\n",
      "\n",
      "location  9.1825628 -0.3982934  11.22038\n",
      "\n",
      "scale    -0.3982934 21.4422632  19.81854\n",
      "\n",
      "shape    11.2203805 19.8185358 172.17411\n",
      "\n",
      "\n",
      "\n",
      "$num.pars\n",
      "\n",
      "$num.pars$location\n",
      "\n",
      "[1] 1\n",
      "\n",
      "\n",
      "\n",
      "$num.pars$scale\n",
      "\n",
      "[1] 1\n",
      "\n",
      "\n",
      "\n",
      "$num.pars$shape\n",
      "\n",
      "[1] 1\n",
      "\n",
      "\n",
      "\n",
      "\n",
      "\n"
     ]
    },
    {
     "data": {
      "image/png": "[encoded data removed]"
     },
     "metadata": {},
     "output_type": "display_data"
    },
    {
     "name": "stdout",
     "output_type": "stream",
     "text": [
      "Tipo de Ajuste:  GEV\n",
      "Tipo de Método del Ajuste:  GMLE\n",
      "$par\n",
      "\n",
      "  location      scale      shape \n",
      "\n",
      "23.0639415  1.7576913 -0.1628816 \n",
      "\n",
      "\n",
      "\n",
      "$value\n",
      "\n",
      "[1] 1e+16\n",
      "\n",
      "\n",
      "\n",
      "$counts\n",
      "\n",
      "function gradient \n",
      "\n",
      "       1        1 \n",
      "\n",
      "\n",
      "\n",
      "$convergence\n",
      "\n",
      "[1] 0\n",
      "\n",
      "\n",
      "\n",
      "$message\n",
      "\n",
      "NULL\n",
      "\n",
      "\n",
      "\n",
      "$hessian\n",
      "\n",
      "         location scale shape\n",
      "\n",
      "location        0     0     0\n",
      "\n",
      "scale           0     0     0\n",
      "\n",
      "shape           0     0     0\n",
      "\n",
      "\n",
      "\n",
      "$num.pars\n",
      "\n",
      "$num.pars$location\n",
      "\n",
      "[1] 1\n",
      "\n",
      "\n",
      "\n",
      "$num.pars$scale\n",
      "\n",
      "[1] 1\n",
      "\n",
      "\n",
      "\n",
      "$num.pars$shape\n",
      "\n",
      "[1] 1\n",
      "\n",
      "\n",
      "\n",
      "\n",
      "\n"
     ]
    },
    {
     "data": {
      "image/png": "[encoded data removed]"
     },
     "metadata": {},
     "output_type": "display_data"
    },
    {
     "name": "stdout",
     "output_type": "stream",
     "text": [
      "Tipo de Ajuste:  Gumbel\n",
      "Tipo de Método del Ajuste:  MLE\n",
      "$par\n",
      "\n",
      " location     scale \n",
      "\n",
      "22.905876  1.814452 \n",
      "\n",
      "\n",
      "\n",
      "$value\n",
      "\n",
      "[1] 67.38487\n",
      "\n",
      "\n",
      "\n",
      "$counts\n",
      "\n",
      "function gradient \n",
      "\n",
      "      14        5 \n",
      "\n",
      "\n",
      "\n",
      "$convergence\n",
      "\n",
      "[1] 0\n",
      "\n",
      "\n",
      "\n",
      "$message\n",
      "\n",
      "NULL\n",
      "\n",
      "\n",
      "\n",
      "$hessian\n",
      "\n",
      "          location     scale\n",
      "\n",
      "location  9.719762 -4.762621\n",
      "\n",
      "scale    -4.762621 21.535378\n",
      "\n",
      "\n",
      "\n",
      "$num.pars\n",
      "\n",
      "$num.pars$location\n",
      "\n",
      "[1] 1\n",
      "\n",
      "\n",
      "\n",
      "$num.pars$scale\n",
      "\n",
      "[1] 1\n",
      "\n",
      "\n",
      "\n",
      "$num.pars$shape\n",
      "\n",
      "NULL\n",
      "\n",
      "\n",
      "\n",
      "\n",
      "\n"
     ]
    },
    {
     "data": {
      "image/png": "[encoded data removed]"
     },
     "metadata": {},
     "output_type": "display_data"
    },
    {
     "name": "stdout",
     "output_type": "stream",
     "text": [
      "Tipo de Ajuste:  Gumbel\n",
      "Tipo de Método del Ajuste:  GMLE\n",
      "$par\n",
      "\n",
      " location     scale \n",
      "\n",
      "22.905876  1.814452 \n",
      "\n",
      "\n",
      "\n",
      "$value\n",
      "\n",
      "[1] 67.38487\n",
      "\n",
      "\n",
      "\n",
      "$counts\n",
      "\n",
      "function gradient \n",
      "\n",
      "      14        5 \n",
      "\n",
      "\n",
      "\n",
      "$convergence\n",
      "\n",
      "[1] 0\n",
      "\n",
      "\n",
      "\n",
      "$message\n",
      "\n",
      "NULL\n",
      "\n",
      "\n",
      "\n",
      "$hessian\n",
      "\n",
      "          location     scale\n",
      "\n",
      "location  9.719762 -4.762621\n",
      "\n",
      "scale    -4.762621 21.535378\n",
      "\n",
      "\n",
      "\n",
      "$num.pars\n",
      "\n",
      "$num.pars$location\n",
      "\n",
      "[1] 1\n",
      "\n",
      "\n",
      "\n",
      "$num.pars$scale\n",
      "\n",
      "[1] 1\n",
      "\n",
      "\n",
      "\n",
      "$num.pars$shape\n",
      "\n",
      "NULL\n",
      "\n",
      "\n",
      "\n",
      "\n",
      "\n"
     ]
    },
    {
     "data": {
      "image/png": "[encoded data removed]"
     },
     "metadata": {},
     "output_type": "display_data"
    }
   ],
   "source": [
    "for t in tipos:\n",
    "    for m in metodos:\n",
    "        print('Tipo de Ajuste: ',t)\n",
    "        print('Tipo de Método del Ajuste: ',m)\n",
    "        result = fevd(max_ws.values,method = m ,type=t)\n",
    "        print(result.rx('results')[0])\n",
    "        %R -i result plot.fevd(result)"
   ]
  },
  {
   "cell_type": "code",
   "execution_count": null,
   "metadata": {},
   "outputs": [],
   "source": []
  }
 ],
 "metadata": {
  "kernelspec": {
   "display_name": "Python 3",
   "language": "python",
   "name": "python3"
  },
  "language_info": {
   "codemirror_mode": {
    "name": "ipython",
    "version": 3
   },
   "file_extension": ".py",
   "mimetype": "text/x-python",
   "name": "python",
   "nbconvert_exporter": "python",
   "pygments_lexer": "ipython3",
   "version": "3.7.3"
  }
 },
 "nbformat": 4,
 "nbformat_minor": 4
}
